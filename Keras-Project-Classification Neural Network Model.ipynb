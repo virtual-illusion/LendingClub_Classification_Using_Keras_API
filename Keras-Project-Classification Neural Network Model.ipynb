{
 "cells": [
  {
   "cell_type": "markdown",
   "metadata": {},
   "source": [
    "## The Data\n",
    "\n",
    "We will be using a subset of the LendingClub DataSet obtained from Kaggle: https://www.kaggle.com/wordsforthewise/lending-club\n",
    "\n",
    "### Our Goal\n",
    "\n",
    "Given historical data on loans given out with information on whether or not the borrower defaulted (charge-off), can we build a model that can predict whether or nor a borrower will pay back their loan? This way in the future when we get a new potential customer we can assess whether or not they are likely to pay back the loan.\n",
    "\n",
    "The \"loan_status\" column contains our label.\n",
    "\n",
    "### Data Overview -- Get to know what each Label represents."
   ]
  },
  {
   "cell_type": "code",
   "execution_count": 1,
   "metadata": {},
   "outputs": [],
   "source": [
    "import pandas as pd"
   ]
  },
  {
   "cell_type": "code",
   "execution_count": 4,
   "metadata": {},
   "outputs": [],
   "source": [
    "data_info = pd.read_csv('lending_club_info.csv',index_col='LoanStatNew')"
   ]
  },
  {
   "cell_type": "code",
   "execution_count": 5,
   "metadata": {},
   "outputs": [
    {
     "name": "stdout",
     "output_type": "stream",
     "text": [
      "Revolving line utilization rate, or the amount of credit the borrower is using relative to all available revolving credit.\n"
     ]
    }
   ],
   "source": [
    "print(data_info.loc['revol_util']['Description'])"
   ]
  },
  {
   "cell_type": "code",
   "execution_count": 6,
   "metadata": {},
   "outputs": [],
   "source": [
    "def feat_info(col_name):\n",
    "    print(col_name+\" = \"+ data_info.loc[col_name]['Description'])"
   ]
  },
  {
   "cell_type": "code",
   "execution_count": 7,
   "metadata": {},
   "outputs": [
    {
     "name": "stdout",
     "output_type": "stream",
     "text": [
      "mort_acc = Number of mortgage accounts.\n"
     ]
    }
   ],
   "source": [
    "feat_info('mort_acc')"
   ]
  },
  {
   "cell_type": "markdown",
   "metadata": {},
   "source": [
    "## Loading the data and other imports"
   ]
  },
  {
   "cell_type": "code",
   "execution_count": 8,
   "metadata": {},
   "outputs": [],
   "source": [
    "import pandas as pd\n",
    "import numpy as np\n",
    "import matplotlib.pyplot as plt\n",
    "import seaborn as sns\n",
    "\n",
    "%matplotlib inline"
   ]
  },
  {
   "cell_type": "code",
   "execution_count": 10,
   "metadata": {},
   "outputs": [],
   "source": [
    "df = pd.read_csv('lending_club_loan_two.csv')"
   ]
  },
  {
   "cell_type": "code",
   "execution_count": 11,
   "metadata": {},
   "outputs": [
    {
     "name": "stdout",
     "output_type": "stream",
     "text": [
      "<class 'pandas.core.frame.DataFrame'>\n",
      "RangeIndex: 396030 entries, 0 to 396029\n",
      "Data columns (total 27 columns):\n",
      " #   Column                Non-Null Count   Dtype  \n",
      "---  ------                --------------   -----  \n",
      " 0   loan_amnt             396030 non-null  float64\n",
      " 1   term                  396030 non-null  object \n",
      " 2   int_rate              396030 non-null  float64\n",
      " 3   installment           396030 non-null  float64\n",
      " 4   grade                 396030 non-null  object \n",
      " 5   sub_grade             396030 non-null  object \n",
      " 6   emp_title             373103 non-null  object \n",
      " 7   emp_length            377729 non-null  object \n",
      " 8   home_ownership        396030 non-null  object \n",
      " 9   annual_inc            396030 non-null  float64\n",
      " 10  verification_status   396030 non-null  object \n",
      " 11  issue_d               396030 non-null  object \n",
      " 12  loan_status           396030 non-null  object \n",
      " 13  purpose               396030 non-null  object \n",
      " 14  title                 394275 non-null  object \n",
      " 15  dti                   396030 non-null  float64\n",
      " 16  earliest_cr_line      396030 non-null  object \n",
      " 17  open_acc              396030 non-null  float64\n",
      " 18  pub_rec               396030 non-null  float64\n",
      " 19  revol_bal             396030 non-null  float64\n",
      " 20  revol_util            395754 non-null  float64\n",
      " 21  total_acc             396030 non-null  float64\n",
      " 22  initial_list_status   396030 non-null  object \n",
      " 23  application_type      396030 non-null  object \n",
      " 24  mort_acc              358235 non-null  float64\n",
      " 25  pub_rec_bankruptcies  395495 non-null  float64\n",
      " 26  address               396030 non-null  object \n",
      "dtypes: float64(12), object(15)\n",
      "memory usage: 81.6+ MB\n"
     ]
    }
   ],
   "source": [
    "df.info()"
   ]
  },
  {
   "cell_type": "markdown",
   "metadata": {},
   "source": [
    "# Part 1 - EDA -- We will try to get a general feeling about the Data."
   ]
  },
  {
   "cell_type": "code",
   "execution_count": 9,
   "metadata": {},
   "outputs": [
    {
     "data": {
      "text/html": [
       "<div>\n",
       "<style scoped>\n",
       "    .dataframe tbody tr th:only-of-type {\n",
       "        vertical-align: middle;\n",
       "    }\n",
       "\n",
       "    .dataframe tbody tr th {\n",
       "        vertical-align: top;\n",
       "    }\n",
       "\n",
       "    .dataframe thead th {\n",
       "        text-align: right;\n",
       "    }\n",
       "</style>\n",
       "<table border=\"1\" class=\"dataframe\">\n",
       "  <thead>\n",
       "    <tr style=\"text-align: right;\">\n",
       "      <th></th>\n",
       "      <th>loan_amnt</th>\n",
       "      <th>term</th>\n",
       "      <th>int_rate</th>\n",
       "      <th>installment</th>\n",
       "      <th>grade</th>\n",
       "      <th>sub_grade</th>\n",
       "      <th>emp_title</th>\n",
       "      <th>emp_length</th>\n",
       "      <th>home_ownership</th>\n",
       "      <th>annual_inc</th>\n",
       "      <th>...</th>\n",
       "      <th>open_acc</th>\n",
       "      <th>pub_rec</th>\n",
       "      <th>revol_bal</th>\n",
       "      <th>revol_util</th>\n",
       "      <th>total_acc</th>\n",
       "      <th>initial_list_status</th>\n",
       "      <th>application_type</th>\n",
       "      <th>mort_acc</th>\n",
       "      <th>pub_rec_bankruptcies</th>\n",
       "      <th>address</th>\n",
       "    </tr>\n",
       "  </thead>\n",
       "  <tbody>\n",
       "    <tr>\n",
       "      <th>0</th>\n",
       "      <td>10000.0</td>\n",
       "      <td>36 months</td>\n",
       "      <td>11.44</td>\n",
       "      <td>329.48</td>\n",
       "      <td>B</td>\n",
       "      <td>B4</td>\n",
       "      <td>Marketing</td>\n",
       "      <td>10+ years</td>\n",
       "      <td>RENT</td>\n",
       "      <td>117000.0</td>\n",
       "      <td>...</td>\n",
       "      <td>16.0</td>\n",
       "      <td>0.0</td>\n",
       "      <td>36369.0</td>\n",
       "      <td>41.8</td>\n",
       "      <td>25.0</td>\n",
       "      <td>w</td>\n",
       "      <td>INDIVIDUAL</td>\n",
       "      <td>0.0</td>\n",
       "      <td>0.0</td>\n",
       "      <td>0174 Michelle Gateway\\nMendozaberg, OK 22690</td>\n",
       "    </tr>\n",
       "    <tr>\n",
       "      <th>1</th>\n",
       "      <td>8000.0</td>\n",
       "      <td>36 months</td>\n",
       "      <td>11.99</td>\n",
       "      <td>265.68</td>\n",
       "      <td>B</td>\n",
       "      <td>B5</td>\n",
       "      <td>Credit analyst</td>\n",
       "      <td>4 years</td>\n",
       "      <td>MORTGAGE</td>\n",
       "      <td>65000.0</td>\n",
       "      <td>...</td>\n",
       "      <td>17.0</td>\n",
       "      <td>0.0</td>\n",
       "      <td>20131.0</td>\n",
       "      <td>53.3</td>\n",
       "      <td>27.0</td>\n",
       "      <td>f</td>\n",
       "      <td>INDIVIDUAL</td>\n",
       "      <td>3.0</td>\n",
       "      <td>0.0</td>\n",
       "      <td>1076 Carney Fort Apt. 347\\nLoganmouth, SD 05113</td>\n",
       "    </tr>\n",
       "    <tr>\n",
       "      <th>2</th>\n",
       "      <td>15600.0</td>\n",
       "      <td>36 months</td>\n",
       "      <td>10.49</td>\n",
       "      <td>506.97</td>\n",
       "      <td>B</td>\n",
       "      <td>B3</td>\n",
       "      <td>Statistician</td>\n",
       "      <td>&lt; 1 year</td>\n",
       "      <td>RENT</td>\n",
       "      <td>43057.0</td>\n",
       "      <td>...</td>\n",
       "      <td>13.0</td>\n",
       "      <td>0.0</td>\n",
       "      <td>11987.0</td>\n",
       "      <td>92.2</td>\n",
       "      <td>26.0</td>\n",
       "      <td>f</td>\n",
       "      <td>INDIVIDUAL</td>\n",
       "      <td>0.0</td>\n",
       "      <td>0.0</td>\n",
       "      <td>87025 Mark Dale Apt. 269\\nNew Sabrina, WV 05113</td>\n",
       "    </tr>\n",
       "    <tr>\n",
       "      <th>3</th>\n",
       "      <td>7200.0</td>\n",
       "      <td>36 months</td>\n",
       "      <td>6.49</td>\n",
       "      <td>220.65</td>\n",
       "      <td>A</td>\n",
       "      <td>A2</td>\n",
       "      <td>Client Advocate</td>\n",
       "      <td>6 years</td>\n",
       "      <td>RENT</td>\n",
       "      <td>54000.0</td>\n",
       "      <td>...</td>\n",
       "      <td>6.0</td>\n",
       "      <td>0.0</td>\n",
       "      <td>5472.0</td>\n",
       "      <td>21.5</td>\n",
       "      <td>13.0</td>\n",
       "      <td>f</td>\n",
       "      <td>INDIVIDUAL</td>\n",
       "      <td>0.0</td>\n",
       "      <td>0.0</td>\n",
       "      <td>823 Reid Ford\\nDelacruzside, MA 00813</td>\n",
       "    </tr>\n",
       "    <tr>\n",
       "      <th>4</th>\n",
       "      <td>24375.0</td>\n",
       "      <td>60 months</td>\n",
       "      <td>17.27</td>\n",
       "      <td>609.33</td>\n",
       "      <td>C</td>\n",
       "      <td>C5</td>\n",
       "      <td>Destiny Management Inc.</td>\n",
       "      <td>9 years</td>\n",
       "      <td>MORTGAGE</td>\n",
       "      <td>55000.0</td>\n",
       "      <td>...</td>\n",
       "      <td>13.0</td>\n",
       "      <td>0.0</td>\n",
       "      <td>24584.0</td>\n",
       "      <td>69.8</td>\n",
       "      <td>43.0</td>\n",
       "      <td>f</td>\n",
       "      <td>INDIVIDUAL</td>\n",
       "      <td>1.0</td>\n",
       "      <td>0.0</td>\n",
       "      <td>679 Luna Roads\\nGreggshire, VA 11650</td>\n",
       "    </tr>\n",
       "  </tbody>\n",
       "</table>\n",
       "<p>5 rows × 27 columns</p>\n",
       "</div>"
      ],
      "text/plain": [
       "   loan_amnt        term  int_rate  installment grade sub_grade  \\\n",
       "0    10000.0   36 months     11.44       329.48     B        B4   \n",
       "1     8000.0   36 months     11.99       265.68     B        B5   \n",
       "2    15600.0   36 months     10.49       506.97     B        B3   \n",
       "3     7200.0   36 months      6.49       220.65     A        A2   \n",
       "4    24375.0   60 months     17.27       609.33     C        C5   \n",
       "\n",
       "                 emp_title emp_length home_ownership  annual_inc  ...  \\\n",
       "0                Marketing  10+ years           RENT    117000.0  ...   \n",
       "1          Credit analyst     4 years       MORTGAGE     65000.0  ...   \n",
       "2             Statistician   < 1 year           RENT     43057.0  ...   \n",
       "3          Client Advocate    6 years           RENT     54000.0  ...   \n",
       "4  Destiny Management Inc.    9 years       MORTGAGE     55000.0  ...   \n",
       "\n",
       "  open_acc pub_rec revol_bal revol_util total_acc  initial_list_status  \\\n",
       "0     16.0     0.0   36369.0       41.8      25.0                    w   \n",
       "1     17.0     0.0   20131.0       53.3      27.0                    f   \n",
       "2     13.0     0.0   11987.0       92.2      26.0                    f   \n",
       "3      6.0     0.0    5472.0       21.5      13.0                    f   \n",
       "4     13.0     0.0   24584.0       69.8      43.0                    f   \n",
       "\n",
       "  application_type  mort_acc  pub_rec_bankruptcies  \\\n",
       "0       INDIVIDUAL       0.0                   0.0   \n",
       "1       INDIVIDUAL       3.0                   0.0   \n",
       "2       INDIVIDUAL       0.0                   0.0   \n",
       "3       INDIVIDUAL       0.0                   0.0   \n",
       "4       INDIVIDUAL       1.0                   0.0   \n",
       "\n",
       "                                           address  \n",
       "0     0174 Michelle Gateway\\nMendozaberg, OK 22690  \n",
       "1  1076 Carney Fort Apt. 347\\nLoganmouth, SD 05113  \n",
       "2  87025 Mark Dale Apt. 269\\nNew Sabrina, WV 05113  \n",
       "3            823 Reid Ford\\nDelacruzside, MA 00813  \n",
       "4             679 Luna Roads\\nGreggshire, VA 11650  \n",
       "\n",
       "[5 rows x 27 columns]"
      ]
     },
     "execution_count": 9,
     "metadata": {},
     "output_type": "execute_result"
    }
   ],
   "source": [
    "df.head()"
   ]
  },
  {
   "cell_type": "code",
   "execution_count": 10,
   "metadata": {},
   "outputs": [
    {
     "data": {
      "text/plain": [
       "<Axes: xlabel='loan_status', ylabel='count'>"
      ]
     },
     "execution_count": 10,
     "metadata": {},
     "output_type": "execute_result"
    },
    {
     "data": {
      "image/png": "[encoded data removed]",
      "text/plain": [
       "<Figure size 640x480 with 1 Axes>"
      ]
     },
     "metadata": {},
     "output_type": "display_data"
    }
   ],
   "source": [
    "sns.countplot(data=df,x='loan_status',palette='seismic')"
   ]
  },
  {
   "cell_type": "code",
   "execution_count": 11,
   "metadata": {},
   "outputs": [
    {
     "data": {
      "text/plain": [
       "<Axes: xlabel='loan_amnt', ylabel='Count'>"
      ]
     },
     "execution_count": 11,
     "metadata": {},
     "output_type": "execute_result"
    },
    {
     "data": {
      "image/png": "[encoded data removed]",
      "text/plain": [
       "<Figure size 640x480 with 1 Axes>"
      ]
     },
     "metadata": {},
     "output_type": "display_data"
    }
   ],
   "source": [
    "sns.histplot(data=df,x='loan_amnt',bins=40,element='step',color='violet')"
   ]
  },
  {
   "cell_type": "code",
   "execution_count": 12,
   "metadata": {},
   "outputs": [
    {
     "name": "stderr",
     "output_type": "stream",
     "text": [
      "C:\\Users\\RO20359598\\AppData\\Local\\Temp\\ipykernel_68836\\1134722465.py:1: FutureWarning: The default value of numeric_only in DataFrame.corr is deprecated. In a future version, it will default to False. Select only valid columns or specify the value of numeric_only to silence this warning.\n",
      "  df.corr()\n"
     ]
    },
    {
     "data": {
      "text/html": [
       "<div>\n",
       "<style scoped>\n",
       "    .dataframe tbody tr th:only-of-type {\n",
       "        vertical-align: middle;\n",
       "    }\n",
       "\n",
       "    .dataframe tbody tr th {\n",
       "        vertical-align: top;\n",
       "    }\n",
       "\n",
       "    .dataframe thead th {\n",
       "        text-align: right;\n",
       "    }\n",
       "</style>\n",
       "<table border=\"1\" class=\"dataframe\">\n",
       "  <thead>\n",
       "    <tr style=\"text-align: right;\">\n",
       "      <th></th>\n",
       "      <th>loan_amnt</th>\n",
       "      <th>int_rate</th>\n",
       "      <th>installment</th>\n",
       "      <th>annual_inc</th>\n",
       "      <th>dti</th>\n",
       "      <th>open_acc</th>\n",
       "      <th>pub_rec</th>\n",
       "      <th>revol_bal</th>\n",
       "      <th>revol_util</th>\n",
       "      <th>total_acc</th>\n",
       "      <th>mort_acc</th>\n",
       "      <th>pub_rec_bankruptcies</th>\n",
       "    </tr>\n",
       "  </thead>\n",
       "  <tbody>\n",
       "    <tr>\n",
       "      <th>loan_amnt</th>\n",
       "      <td>1.000000</td>\n",
       "      <td>0.168921</td>\n",
       "      <td>0.953929</td>\n",
       "      <td>0.336887</td>\n",
       "      <td>0.016636</td>\n",
       "      <td>0.198556</td>\n",
       "      <td>-0.077779</td>\n",
       "      <td>0.328320</td>\n",
       "      <td>0.099911</td>\n",
       "      <td>0.223886</td>\n",
       "      <td>0.222315</td>\n",
       "      <td>-0.106539</td>\n",
       "    </tr>\n",
       "    <tr>\n",
       "      <th>int_rate</th>\n",
       "      <td>0.168921</td>\n",
       "      <td>1.000000</td>\n",
       "      <td>0.162758</td>\n",
       "      <td>-0.056771</td>\n",
       "      <td>0.079038</td>\n",
       "      <td>0.011649</td>\n",
       "      <td>0.060986</td>\n",
       "      <td>-0.011280</td>\n",
       "      <td>0.293659</td>\n",
       "      <td>-0.036404</td>\n",
       "      <td>-0.082583</td>\n",
       "      <td>0.057450</td>\n",
       "    </tr>\n",
       "    <tr>\n",
       "      <th>installment</th>\n",
       "      <td>0.953929</td>\n",
       "      <td>0.162758</td>\n",
       "      <td>1.000000</td>\n",
       "      <td>0.330381</td>\n",
       "      <td>0.015786</td>\n",
       "      <td>0.188973</td>\n",
       "      <td>-0.067892</td>\n",
       "      <td>0.316455</td>\n",
       "      <td>0.123915</td>\n",
       "      <td>0.202430</td>\n",
       "      <td>0.193694</td>\n",
       "      <td>-0.098628</td>\n",
       "    </tr>\n",
       "    <tr>\n",
       "      <th>annual_inc</th>\n",
       "      <td>0.336887</td>\n",
       "      <td>-0.056771</td>\n",
       "      <td>0.330381</td>\n",
       "      <td>1.000000</td>\n",
       "      <td>-0.081685</td>\n",
       "      <td>0.136150</td>\n",
       "      <td>-0.013720</td>\n",
       "      <td>0.299773</td>\n",
       "      <td>0.027871</td>\n",
       "      <td>0.193023</td>\n",
       "      <td>0.236320</td>\n",
       "      <td>-0.050162</td>\n",
       "    </tr>\n",
       "    <tr>\n",
       "      <th>dti</th>\n",
       "      <td>0.016636</td>\n",
       "      <td>0.079038</td>\n",
       "      <td>0.015786</td>\n",
       "      <td>-0.081685</td>\n",
       "      <td>1.000000</td>\n",
       "      <td>0.136181</td>\n",
       "      <td>-0.017639</td>\n",
       "      <td>0.063571</td>\n",
       "      <td>0.088375</td>\n",
       "      <td>0.102128</td>\n",
       "      <td>-0.025439</td>\n",
       "      <td>-0.014558</td>\n",
       "    </tr>\n",
       "    <tr>\n",
       "      <th>open_acc</th>\n",
       "      <td>0.198556</td>\n",
       "      <td>0.011649</td>\n",
       "      <td>0.188973</td>\n",
       "      <td>0.136150</td>\n",
       "      <td>0.136181</td>\n",
       "      <td>1.000000</td>\n",
       "      <td>-0.018392</td>\n",
       "      <td>0.221192</td>\n",
       "      <td>-0.131420</td>\n",
       "      <td>0.680728</td>\n",
       "      <td>0.109205</td>\n",
       "      <td>-0.027732</td>\n",
       "    </tr>\n",
       "    <tr>\n",
       "      <th>pub_rec</th>\n",
       "      <td>-0.077779</td>\n",
       "      <td>0.060986</td>\n",
       "      <td>-0.067892</td>\n",
       "      <td>-0.013720</td>\n",
       "      <td>-0.017639</td>\n",
       "      <td>-0.018392</td>\n",
       "      <td>1.000000</td>\n",
       "      <td>-0.101664</td>\n",
       "      <td>-0.075910</td>\n",
       "      <td>0.019723</td>\n",
       "      <td>0.011552</td>\n",
       "      <td>0.699408</td>\n",
       "    </tr>\n",
       "    <tr>\n",
       "      <th>revol_bal</th>\n",
       "      <td>0.328320</td>\n",
       "      <td>-0.011280</td>\n",
       "      <td>0.316455</td>\n",
       "      <td>0.299773</td>\n",
       "      <td>0.063571</td>\n",
       "      <td>0.221192</td>\n",
       "      <td>-0.101664</td>\n",
       "      <td>1.000000</td>\n",
       "      <td>0.226346</td>\n",
       "      <td>0.191616</td>\n",
       "      <td>0.194925</td>\n",
       "      <td>-0.124532</td>\n",
       "    </tr>\n",
       "    <tr>\n",
       "      <th>revol_util</th>\n",
       "      <td>0.099911</td>\n",
       "      <td>0.293659</td>\n",
       "      <td>0.123915</td>\n",
       "      <td>0.027871</td>\n",
       "      <td>0.088375</td>\n",
       "      <td>-0.131420</td>\n",
       "      <td>-0.075910</td>\n",
       "      <td>0.226346</td>\n",
       "      <td>1.000000</td>\n",
       "      <td>-0.104273</td>\n",
       "      <td>0.007514</td>\n",
       "      <td>-0.086751</td>\n",
       "    </tr>\n",
       "    <tr>\n",
       "      <th>total_acc</th>\n",
       "      <td>0.223886</td>\n",
       "      <td>-0.036404</td>\n",
       "      <td>0.202430</td>\n",
       "      <td>0.193023</td>\n",
       "      <td>0.102128</td>\n",
       "      <td>0.680728</td>\n",
       "      <td>0.019723</td>\n",
       "      <td>0.191616</td>\n",
       "      <td>-0.104273</td>\n",
       "      <td>1.000000</td>\n",
       "      <td>0.381072</td>\n",
       "      <td>0.042035</td>\n",
       "    </tr>\n",
       "    <tr>\n",
       "      <th>mort_acc</th>\n",
       "      <td>0.222315</td>\n",
       "      <td>-0.082583</td>\n",
       "      <td>0.193694</td>\n",
       "      <td>0.236320</td>\n",
       "      <td>-0.025439</td>\n",
       "      <td>0.109205</td>\n",
       "      <td>0.011552</td>\n",
       "      <td>0.194925</td>\n",
       "      <td>0.007514</td>\n",
       "      <td>0.381072</td>\n",
       "      <td>1.000000</td>\n",
       "      <td>0.027239</td>\n",
       "    </tr>\n",
       "    <tr>\n",
       "      <th>pub_rec_bankruptcies</th>\n",
       "      <td>-0.106539</td>\n",
       "      <td>0.057450</td>\n",
       "      <td>-0.098628</td>\n",
       "      <td>-0.050162</td>\n",
       "      <td>-0.014558</td>\n",
       "      <td>-0.027732</td>\n",
       "      <td>0.699408</td>\n",
       "      <td>-0.124532</td>\n",
       "      <td>-0.086751</td>\n",
       "      <td>0.042035</td>\n",
       "      <td>0.027239</td>\n",
       "      <td>1.000000</td>\n",
       "    </tr>\n",
       "  </tbody>\n",
       "</table>\n",
       "</div>"
      ],
      "text/plain": [
       "                      loan_amnt  int_rate  installment  annual_inc       dti  \\\n",
       "loan_amnt              1.000000  0.168921     0.953929    0.336887  0.016636   \n",
       "int_rate               0.168921  1.000000     0.162758   -0.056771  0.079038   \n",
       "installment            0.953929  0.162758     1.000000    0.330381  0.015786   \n",
       "annual_inc             0.336887 -0.056771     0.330381    1.000000 -0.081685   \n",
       "dti                    0.016636  0.079038     0.015786   -0.081685  1.000000   \n",
       "open_acc               0.198556  0.011649     0.188973    0.136150  0.136181   \n",
       "pub_rec               -0.077779  0.060986    -0.067892   -0.013720 -0.017639   \n",
       "revol_bal              0.328320 -0.011280     0.316455    0.299773  0.063571   \n",
       "revol_util             0.099911  0.293659     0.123915    0.027871  0.088375   \n",
       "total_acc              0.223886 -0.036404     0.202430    0.193023  0.102128   \n",
       "mort_acc               0.222315 -0.082583     0.193694    0.236320 -0.025439   \n",
       "pub_rec_bankruptcies  -0.106539  0.057450    -0.098628   -0.050162 -0.014558   \n",
       "\n",
       "                      open_acc   pub_rec  revol_bal  revol_util  total_acc  \\\n",
       "loan_amnt             0.198556 -0.077779   0.328320    0.099911   0.223886   \n",
       "int_rate              0.011649  0.060986  -0.011280    0.293659  -0.036404   \n",
       "installment           0.188973 -0.067892   0.316455    0.123915   0.202430   \n",
       "annual_inc            0.136150 -0.013720   0.299773    0.027871   0.193023   \n",
       "dti                   0.136181 -0.017639   0.063571    0.088375   0.102128   \n",
       "open_acc              1.000000 -0.018392   0.221192   -0.131420   0.680728   \n",
       "pub_rec              -0.018392  1.000000  -0.101664   -0.075910   0.019723   \n",
       "revol_bal             0.221192 -0.101664   1.000000    0.226346   0.191616   \n",
       "revol_util           -0.131420 -0.075910   0.226346    1.000000  -0.104273   \n",
       "total_acc             0.680728  0.019723   0.191616   -0.104273   1.000000   \n",
       "mort_acc              0.109205  0.011552   0.194925    0.007514   0.381072   \n",
       "pub_rec_bankruptcies -0.027732  0.699408  -0.124532   -0.086751   0.042035   \n",
       "\n",
       "                      mort_acc  pub_rec_bankruptcies  \n",
       "loan_amnt             0.222315             -0.106539  \n",
       "int_rate             -0.082583              0.057450  \n",
       "installment           0.193694             -0.098628  \n",
       "annual_inc            0.236320             -0.050162  \n",
       "dti                  -0.025439             -0.014558  \n",
       "open_acc              0.109205             -0.027732  \n",
       "pub_rec               0.011552              0.699408  \n",
       "revol_bal             0.194925             -0.124532  \n",
       "revol_util            0.007514             -0.086751  \n",
       "total_acc             0.381072              0.042035  \n",
       "mort_acc              1.000000              0.027239  \n",
       "pub_rec_bankruptcies  0.027239              1.000000  "
      ]
     },
     "execution_count": 12,
     "metadata": {},
     "output_type": "execute_result"
    }
   ],
   "source": [
    "df.corr()"
   ]
  },
  {
   "cell_type": "code",
   "execution_count": 13,
   "metadata": {},
   "outputs": [
    {
     "name": "stderr",
     "output_type": "stream",
     "text": [
      "C:\\Users\\RO20359598\\AppData\\Local\\Temp\\ipykernel_68836\\743334478.py:1: FutureWarning: The default value of numeric_only in DataFrame.corr is deprecated. In a future version, it will default to False. Select only valid columns or specify the value of numeric_only to silence this warning.\n",
      "  sns.heatmap(df.corr(),cmap='rocket_r')\n"
     ]
    },
    {
     "data": {
      "text/plain": [
       "<Axes: >"
      ]
     },
     "execution_count": 13,
     "metadata": {},
     "output_type": "execute_result"
    },
    {
     "data": {
      "image/png": "[encoded data removed]",
      "text/plain": [
       "<Figure size 640x480 with 2 Axes>"
      ]
     },
     "metadata": {},
     "output_type": "display_data"
    }
   ],
   "source": [
    "sns.heatmap(df.corr(),cmap='rocket_r')"
   ]
  },
  {
   "cell_type": "markdown",
   "metadata": {},
   "source": [
    "**We can see that there is a huge positive corelation between 'installment' and 'loan_amnt'.**\n",
    "\n",
    "**We will explore the above 2 labels further and check if they actually represent same information or not.**"
   ]
  },
  {
   "cell_type": "code",
   "execution_count": 14,
   "metadata": {},
   "outputs": [
    {
     "name": "stdout",
     "output_type": "stream",
     "text": [
      "installment = The monthly payment owed by the borrower if the loan originates.\n"
     ]
    }
   ],
   "source": [
    "feat_info('installment')"
   ]
  },
  {
   "cell_type": "code",
   "execution_count": 15,
   "metadata": {},
   "outputs": [
    {
     "name": "stdout",
     "output_type": "stream",
     "text": [
      "loan_amnt = The listed amount of the loan applied for by the borrower. If at some point in time, the credit department reduces the loan amount, then it will be reflected in this value.\n"
     ]
    }
   ],
   "source": [
    "feat_info('loan_amnt')"
   ]
  },
  {
   "cell_type": "code",
   "execution_count": 16,
   "metadata": {},
   "outputs": [
    {
     "data": {
      "text/plain": [
       "<Axes: xlabel='installment', ylabel='loan_amnt'>"
      ]
     },
     "execution_count": 16,
     "metadata": {},
     "output_type": "execute_result"
    },
    {
     "data": {
      "image/png": "[encoded data removed]",
      "text/plain": [
       "<Figure size 640x480 with 1 Axes>"
      ]
     },
     "metadata": {},
     "output_type": "display_data"
    }
   ],
   "source": [
    "sns.scatterplot(data=df,x='installment',y='loan_amnt',color='green')"
   ]
  },
  {
   "cell_type": "code",
   "execution_count": 17,
   "metadata": {},
   "outputs": [
    {
     "data": {
      "text/plain": [
       "<Axes: xlabel='loan_status', ylabel='loan_amnt'>"
      ]
     },
     "execution_count": 17,
     "metadata": {},
     "output_type": "execute_result"
    },
    {
     "data": {
      "image/png": "[encoded data removed]",
      "text/plain": [
       "<Figure size 640x480 with 1 Axes>"
      ]
     },
     "metadata": {},
     "output_type": "display_data"
    }
   ],
   "source": [
    "sns.boxplot(data=df,x='loan_status',y='loan_amnt',palette='hot')"
   ]
  },
  {
   "cell_type": "markdown",
   "metadata": {},
   "source": [
    "**Summary Statistics for the loan amount, grouped by the loan_status.**"
   ]
  },
  {
   "cell_type": "code",
   "execution_count": 18,
   "metadata": {},
   "outputs": [
    {
     "data": {
      "text/html": [
       "<div>\n",
       "<style scoped>\n",
       "    .dataframe tbody tr th:only-of-type {\n",
       "        vertical-align: middle;\n",
       "    }\n",
       "\n",
       "    .dataframe tbody tr th {\n",
       "        vertical-align: top;\n",
       "    }\n",
       "\n",
       "    .dataframe thead th {\n",
       "        text-align: right;\n",
       "    }\n",
       "</style>\n",
       "<table border=\"1\" class=\"dataframe\">\n",
       "  <thead>\n",
       "    <tr style=\"text-align: right;\">\n",
       "      <th></th>\n",
       "      <th>count</th>\n",
       "      <th>mean</th>\n",
       "      <th>std</th>\n",
       "      <th>min</th>\n",
       "      <th>25%</th>\n",
       "      <th>50%</th>\n",
       "      <th>75%</th>\n",
       "      <th>max</th>\n",
       "    </tr>\n",
       "    <tr>\n",
       "      <th>loan_status</th>\n",
       "      <th></th>\n",
       "      <th></th>\n",
       "      <th></th>\n",
       "      <th></th>\n",
       "      <th></th>\n",
       "      <th></th>\n",
       "      <th></th>\n",
       "      <th></th>\n",
       "    </tr>\n",
       "  </thead>\n",
       "  <tbody>\n",
       "    <tr>\n",
       "      <th>Charged Off</th>\n",
       "      <td>77673.0</td>\n",
       "      <td>15126.300967</td>\n",
       "      <td>8505.090557</td>\n",
       "      <td>1000.0</td>\n",
       "      <td>8525.0</td>\n",
       "      <td>14000.0</td>\n",
       "      <td>20000.0</td>\n",
       "      <td>40000.0</td>\n",
       "    </tr>\n",
       "    <tr>\n",
       "      <th>Fully Paid</th>\n",
       "      <td>318357.0</td>\n",
       "      <td>13866.878771</td>\n",
       "      <td>8302.319699</td>\n",
       "      <td>500.0</td>\n",
       "      <td>7500.0</td>\n",
       "      <td>12000.0</td>\n",
       "      <td>19225.0</td>\n",
       "      <td>40000.0</td>\n",
       "    </tr>\n",
       "  </tbody>\n",
       "</table>\n",
       "</div>"
      ],
      "text/plain": [
       "                count          mean          std     min     25%      50%  \\\n",
       "loan_status                                                                 \n",
       "Charged Off   77673.0  15126.300967  8505.090557  1000.0  8525.0  14000.0   \n",
       "Fully Paid   318357.0  13866.878771  8302.319699   500.0  7500.0  12000.0   \n",
       "\n",
       "                 75%      max  \n",
       "loan_status                    \n",
       "Charged Off  20000.0  40000.0  \n",
       "Fully Paid   19225.0  40000.0  "
      ]
     },
     "execution_count": 18,
     "metadata": {},
     "output_type": "execute_result"
    }
   ],
   "source": [
    "df.groupby('loan_status')['loan_amnt'].describe()"
   ]
  },
  {
   "cell_type": "markdown",
   "metadata": {},
   "source": [
    "**Let's explore the Grade and SubGrade columns that LendingClub attributes to the loans**"
   ]
  },
  {
   "cell_type": "code",
   "execution_count": 19,
   "metadata": {},
   "outputs": [
    {
     "data": {
      "text/plain": [
       "{'A', 'B', 'C', 'D', 'E', 'F', 'G'}"
      ]
     },
     "execution_count": 19,
     "metadata": {},
     "output_type": "execute_result"
    }
   ],
   "source": [
    "set(df['grade'].values)         # unique number of grades possible."
   ]
  },
  {
   "cell_type": "code",
   "execution_count": 20,
   "metadata": {},
   "outputs": [
    {
     "data": {
      "text/plain": [
       "['A1',\n",
       " 'A2',\n",
       " 'A3',\n",
       " 'A4',\n",
       " 'A5',\n",
       " 'B1',\n",
       " 'B2',\n",
       " 'B3',\n",
       " 'B4',\n",
       " 'B5',\n",
       " 'C1',\n",
       " 'C2',\n",
       " 'C3',\n",
       " 'C4',\n",
       " 'C5',\n",
       " 'D1',\n",
       " 'D2',\n",
       " 'D3',\n",
       " 'D4',\n",
       " 'D5',\n",
       " 'E1',\n",
       " 'E2',\n",
       " 'E3',\n",
       " 'E4',\n",
       " 'E5',\n",
       " 'F1',\n",
       " 'F2',\n",
       " 'F3',\n",
       " 'F4',\n",
       " 'F5',\n",
       " 'G1',\n",
       " 'G2',\n",
       " 'G3',\n",
       " 'G4',\n",
       " 'G5']"
      ]
     },
     "execution_count": 20,
     "metadata": {},
     "output_type": "execute_result"
    }
   ],
   "source": [
    "order1=sorted(set(df['sub_grade'].values))      # unique number of sub_grades possible.\n",
    "order1"
   ]
  },
  {
   "cell_type": "code",
   "execution_count": 21,
   "metadata": {},
   "outputs": [
    {
     "data": {
      "text/plain": [
       "<Axes: xlabel='grade', ylabel='count'>"
      ]
     },
     "execution_count": 21,
     "metadata": {},
     "output_type": "execute_result"
    },
    {
     "data": {
      "image/png": "[encoded data removed]",
      "text/plain": [
       "<Figure size 640x480 with 1 Axes>"
      ]
     },
     "metadata": {},
     "output_type": "display_data"
    }
   ],
   "source": [
    "sns.countplot(data=df,x='grade',hue='loan_status',palette='cubehelix')  # Countplot per grade based on loan_status."
   ]
  },
  {
   "cell_type": "markdown",
   "metadata": {},
   "source": [
    "**TASK: Display a count plot per subgrade. You may need to resize for this plot and [reorder](https://seaborn.pydata.org/generated/seaborn.countplot.html#seaborn.countplot) the x axis. Feel free to edit the color palette. Explore both all loans made per subgrade as well being separated based on the loan_status. After creating this plot, go ahead and create a similar plot, but set hue=\"loan_status\"**"
   ]
  },
  {
   "cell_type": "code",
   "execution_count": 22,
   "metadata": {},
   "outputs": [
    {
     "data": {
      "text/plain": [
       "<Axes: xlabel='sub_grade', ylabel='count'>"
      ]
     },
     "execution_count": 22,
     "metadata": {},
     "output_type": "execute_result"
    },
    {
     "data": {
      "image/png": "[encoded data removed]",
      "text/plain": [
       "<Figure size 1000x500 with 1 Axes>"
      ]
     },
     "metadata": {},
     "output_type": "display_data"
    }
   ],
   "source": [
    "plt.figure(figsize=(10,5))\n",
    "sns.countplot(data=df,x='sub_grade',order=order1,palette='coolwarm')# Countplot per sub_grade based on loan_status, but ordered."
   ]
  },
  {
   "cell_type": "code",
   "execution_count": 23,
   "metadata": {},
   "outputs": [
    {
     "data": {
      "text/plain": [
       "<Axes: xlabel='sub_grade', ylabel='count'>"
      ]
     },
     "execution_count": 23,
     "metadata": {},
     "output_type": "execute_result"
    },
    {
     "data": {
      "image/png": "[encoded data removed]",
      "text/plain": [
       "<Figure size 1000x500 with 1 Axes>"
      ]
     },
     "metadata": {},
     "output_type": "display_data"
    }
   ],
   "source": [
    "plt.figure(figsize=(10,5))\n",
    "sns.countplot(data=df,x='sub_grade',order=order1,palette='hot_r',hue='loan_status')"
   ]
  },
  {
   "cell_type": "markdown",
   "metadata": {},
   "source": [
    "**It looks like F and G subgrades don't get paid back that often. For grades A to E , we can see the count of loans being fully paid way higher than the loans which were charged off.**\n",
    "\n",
    "**But for E and F , both the values of loan_status are comparable. We isloate those and recreate the countplot just for those subgrades.**"
   ]
  },
  {
   "cell_type": "code",
   "execution_count": 24,
   "metadata": {},
   "outputs": [
    {
     "data": {
      "text/plain": [
       "<Axes: xlabel='sub_grade', ylabel='count'>"
      ]
     },
     "execution_count": 24,
     "metadata": {},
     "output_type": "execute_result"
    },
    {
     "data": {
      "image/png": "[encoded data removed]",
      "text/plain": [
       "<Figure size 1000x400 with 1 Axes>"
      ]
     },
     "metadata": {},
     "output_type": "display_data"
    }
   ],
   "source": [
    "plt.figure(figsize=(10,4))\n",
    "f_and_g=df[(df['grade']=='F') | (df['grade']=='G')]\n",
    "sns.countplot(data=f_and_g,x='sub_grade',hue='loan_status',order=order1[-10:],palette='hot_r')"
   ]
  },
  {
   "cell_type": "markdown",
   "metadata": {},
   "source": [
    "**We will create a new column called 'loan_repaid' which will contain a 1 if the loan status was \"Fully Paid\" and a 0 if it was \"Charged Off\". This will be helpful in building our model.**"
   ]
  },
  {
   "cell_type": "code",
   "execution_count": 25,
   "metadata": {},
   "outputs": [
    {
     "data": {
      "text/plain": [
       "array(['Fully Paid', 'Charged Off'], dtype=object)"
      ]
     },
     "execution_count": 25,
     "metadata": {},
     "output_type": "execute_result"
    }
   ],
   "source": [
    "df['loan_status'].unique()"
   ]
  },
  {
   "cell_type": "code",
   "execution_count": 26,
   "metadata": {},
   "outputs": [],
   "source": [
    "df['loan_repaid']=df['loan_status'].map({'Fully Paid':1, 'Charged Off':0})"
   ]
  },
  {
   "cell_type": "code",
   "execution_count": 27,
   "metadata": {},
   "outputs": [
    {
     "data": {
      "text/html": [
       "<div>\n",
       "<style scoped>\n",
       "    .dataframe tbody tr th:only-of-type {\n",
       "        vertical-align: middle;\n",
       "    }\n",
       "\n",
       "    .dataframe tbody tr th {\n",
       "        vertical-align: top;\n",
       "    }\n",
       "\n",
       "    .dataframe thead th {\n",
       "        text-align: right;\n",
       "    }\n",
       "</style>\n",
       "<table border=\"1\" class=\"dataframe\">\n",
       "  <thead>\n",
       "    <tr style=\"text-align: right;\">\n",
       "      <th></th>\n",
       "      <th>loan_repaid</th>\n",
       "      <th>loan_status</th>\n",
       "    </tr>\n",
       "  </thead>\n",
       "  <tbody>\n",
       "    <tr>\n",
       "      <th>0</th>\n",
       "      <td>1</td>\n",
       "      <td>Fully Paid</td>\n",
       "    </tr>\n",
       "    <tr>\n",
       "      <th>1</th>\n",
       "      <td>1</td>\n",
       "      <td>Fully Paid</td>\n",
       "    </tr>\n",
       "    <tr>\n",
       "      <th>2</th>\n",
       "      <td>1</td>\n",
       "      <td>Fully Paid</td>\n",
       "    </tr>\n",
       "    <tr>\n",
       "      <th>3</th>\n",
       "      <td>1</td>\n",
       "      <td>Fully Paid</td>\n",
       "    </tr>\n",
       "    <tr>\n",
       "      <th>4</th>\n",
       "      <td>0</td>\n",
       "      <td>Charged Off</td>\n",
       "    </tr>\n",
       "    <tr>\n",
       "      <th>...</th>\n",
       "      <td>...</td>\n",
       "      <td>...</td>\n",
       "    </tr>\n",
       "    <tr>\n",
       "      <th>396025</th>\n",
       "      <td>1</td>\n",
       "      <td>Fully Paid</td>\n",
       "    </tr>\n",
       "    <tr>\n",
       "      <th>396026</th>\n",
       "      <td>1</td>\n",
       "      <td>Fully Paid</td>\n",
       "    </tr>\n",
       "    <tr>\n",
       "      <th>396027</th>\n",
       "      <td>1</td>\n",
       "      <td>Fully Paid</td>\n",
       "    </tr>\n",
       "    <tr>\n",
       "      <th>396028</th>\n",
       "      <td>1</td>\n",
       "      <td>Fully Paid</td>\n",
       "    </tr>\n",
       "    <tr>\n",
       "      <th>396029</th>\n",
       "      <td>1</td>\n",
       "      <td>Fully Paid</td>\n",
       "    </tr>\n",
       "  </tbody>\n",
       "</table>\n",
       "<p>396030 rows × 2 columns</p>\n",
       "</div>"
      ],
      "text/plain": [
       "        loan_repaid  loan_status\n",
       "0                 1   Fully Paid\n",
       "1                 1   Fully Paid\n",
       "2                 1   Fully Paid\n",
       "3                 1   Fully Paid\n",
       "4                 0  Charged Off\n",
       "...             ...          ...\n",
       "396025            1   Fully Paid\n",
       "396026            1   Fully Paid\n",
       "396027            1   Fully Paid\n",
       "396028            1   Fully Paid\n",
       "396029            1   Fully Paid\n",
       "\n",
       "[396030 rows x 2 columns]"
      ]
     },
     "execution_count": 27,
     "metadata": {},
     "output_type": "execute_result"
    }
   ],
   "source": [
    "df[['loan_repaid','loan_status']]"
   ]
  },
  {
   "cell_type": "code",
   "execution_count": 28,
   "metadata": {},
   "outputs": [
    {
     "data": {
      "text/html": [
       "<div>\n",
       "<style scoped>\n",
       "    .dataframe tbody tr th:only-of-type {\n",
       "        vertical-align: middle;\n",
       "    }\n",
       "\n",
       "    .dataframe tbody tr th {\n",
       "        vertical-align: top;\n",
       "    }\n",
       "\n",
       "    .dataframe thead th {\n",
       "        text-align: right;\n",
       "    }\n",
       "</style>\n",
       "<table border=\"1\" class=\"dataframe\">\n",
       "  <thead>\n",
       "    <tr style=\"text-align: right;\">\n",
       "      <th></th>\n",
       "      <th>loan_amnt</th>\n",
       "      <th>term</th>\n",
       "      <th>int_rate</th>\n",
       "      <th>installment</th>\n",
       "      <th>grade</th>\n",
       "      <th>sub_grade</th>\n",
       "      <th>emp_title</th>\n",
       "      <th>emp_length</th>\n",
       "      <th>home_ownership</th>\n",
       "      <th>annual_inc</th>\n",
       "      <th>...</th>\n",
       "      <th>pub_rec</th>\n",
       "      <th>revol_bal</th>\n",
       "      <th>revol_util</th>\n",
       "      <th>total_acc</th>\n",
       "      <th>initial_list_status</th>\n",
       "      <th>application_type</th>\n",
       "      <th>mort_acc</th>\n",
       "      <th>pub_rec_bankruptcies</th>\n",
       "      <th>address</th>\n",
       "      <th>loan_repaid</th>\n",
       "    </tr>\n",
       "  </thead>\n",
       "  <tbody>\n",
       "    <tr>\n",
       "      <th>0</th>\n",
       "      <td>10000.0</td>\n",
       "      <td>36 months</td>\n",
       "      <td>11.44</td>\n",
       "      <td>329.48</td>\n",
       "      <td>B</td>\n",
       "      <td>B4</td>\n",
       "      <td>Marketing</td>\n",
       "      <td>10+ years</td>\n",
       "      <td>RENT</td>\n",
       "      <td>117000.0</td>\n",
       "      <td>...</td>\n",
       "      <td>0.0</td>\n",
       "      <td>36369.0</td>\n",
       "      <td>41.8</td>\n",
       "      <td>25.0</td>\n",
       "      <td>w</td>\n",
       "      <td>INDIVIDUAL</td>\n",
       "      <td>0.0</td>\n",
       "      <td>0.0</td>\n",
       "      <td>0174 Michelle Gateway\\nMendozaberg, OK 22690</td>\n",
       "      <td>1</td>\n",
       "    </tr>\n",
       "    <tr>\n",
       "      <th>1</th>\n",
       "      <td>8000.0</td>\n",
       "      <td>36 months</td>\n",
       "      <td>11.99</td>\n",
       "      <td>265.68</td>\n",
       "      <td>B</td>\n",
       "      <td>B5</td>\n",
       "      <td>Credit analyst</td>\n",
       "      <td>4 years</td>\n",
       "      <td>MORTGAGE</td>\n",
       "      <td>65000.0</td>\n",
       "      <td>...</td>\n",
       "      <td>0.0</td>\n",
       "      <td>20131.0</td>\n",
       "      <td>53.3</td>\n",
       "      <td>27.0</td>\n",
       "      <td>f</td>\n",
       "      <td>INDIVIDUAL</td>\n",
       "      <td>3.0</td>\n",
       "      <td>0.0</td>\n",
       "      <td>1076 Carney Fort Apt. 347\\nLoganmouth, SD 05113</td>\n",
       "      <td>1</td>\n",
       "    </tr>\n",
       "    <tr>\n",
       "      <th>2</th>\n",
       "      <td>15600.0</td>\n",
       "      <td>36 months</td>\n",
       "      <td>10.49</td>\n",
       "      <td>506.97</td>\n",
       "      <td>B</td>\n",
       "      <td>B3</td>\n",
       "      <td>Statistician</td>\n",
       "      <td>&lt; 1 year</td>\n",
       "      <td>RENT</td>\n",
       "      <td>43057.0</td>\n",
       "      <td>...</td>\n",
       "      <td>0.0</td>\n",
       "      <td>11987.0</td>\n",
       "      <td>92.2</td>\n",
       "      <td>26.0</td>\n",
       "      <td>f</td>\n",
       "      <td>INDIVIDUAL</td>\n",
       "      <td>0.0</td>\n",
       "      <td>0.0</td>\n",
       "      <td>87025 Mark Dale Apt. 269\\nNew Sabrina, WV 05113</td>\n",
       "      <td>1</td>\n",
       "    </tr>\n",
       "    <tr>\n",
       "      <th>3</th>\n",
       "      <td>7200.0</td>\n",
       "      <td>36 months</td>\n",
       "      <td>6.49</td>\n",
       "      <td>220.65</td>\n",
       "      <td>A</td>\n",
       "      <td>A2</td>\n",
       "      <td>Client Advocate</td>\n",
       "      <td>6 years</td>\n",
       "      <td>RENT</td>\n",
       "      <td>54000.0</td>\n",
       "      <td>...</td>\n",
       "      <td>0.0</td>\n",
       "      <td>5472.0</td>\n",
       "      <td>21.5</td>\n",
       "      <td>13.0</td>\n",
       "      <td>f</td>\n",
       "      <td>INDIVIDUAL</td>\n",
       "      <td>0.0</td>\n",
       "      <td>0.0</td>\n",
       "      <td>823 Reid Ford\\nDelacruzside, MA 00813</td>\n",
       "      <td>1</td>\n",
       "    </tr>\n",
       "    <tr>\n",
       "      <th>4</th>\n",
       "      <td>24375.0</td>\n",
       "      <td>60 months</td>\n",
       "      <td>17.27</td>\n",
       "      <td>609.33</td>\n",
       "      <td>C</td>\n",
       "      <td>C5</td>\n",
       "      <td>Destiny Management Inc.</td>\n",
       "      <td>9 years</td>\n",
       "      <td>MORTGAGE</td>\n",
       "      <td>55000.0</td>\n",
       "      <td>...</td>\n",
       "      <td>0.0</td>\n",
       "      <td>24584.0</td>\n",
       "      <td>69.8</td>\n",
       "      <td>43.0</td>\n",
       "      <td>f</td>\n",
       "      <td>INDIVIDUAL</td>\n",
       "      <td>1.0</td>\n",
       "      <td>0.0</td>\n",
       "      <td>679 Luna Roads\\nGreggshire, VA 11650</td>\n",
       "      <td>0</td>\n",
       "    </tr>\n",
       "  </tbody>\n",
       "</table>\n",
       "<p>5 rows × 28 columns</p>\n",
       "</div>"
      ],
      "text/plain": [
       "   loan_amnt        term  int_rate  installment grade sub_grade  \\\n",
       "0    10000.0   36 months     11.44       329.48     B        B4   \n",
       "1     8000.0   36 months     11.99       265.68     B        B5   \n",
       "2    15600.0   36 months     10.49       506.97     B        B3   \n",
       "3     7200.0   36 months      6.49       220.65     A        A2   \n",
       "4    24375.0   60 months     17.27       609.33     C        C5   \n",
       "\n",
       "                 emp_title emp_length home_ownership  annual_inc  ... pub_rec  \\\n",
       "0                Marketing  10+ years           RENT    117000.0  ...     0.0   \n",
       "1          Credit analyst     4 years       MORTGAGE     65000.0  ...     0.0   \n",
       "2             Statistician   < 1 year           RENT     43057.0  ...     0.0   \n",
       "3          Client Advocate    6 years           RENT     54000.0  ...     0.0   \n",
       "4  Destiny Management Inc.    9 years       MORTGAGE     55000.0  ...     0.0   \n",
       "\n",
       "  revol_bal revol_util total_acc initial_list_status  application_type  \\\n",
       "0   36369.0       41.8      25.0                   w        INDIVIDUAL   \n",
       "1   20131.0       53.3      27.0                   f        INDIVIDUAL   \n",
       "2   11987.0       92.2      26.0                   f        INDIVIDUAL   \n",
       "3    5472.0       21.5      13.0                   f        INDIVIDUAL   \n",
       "4   24584.0       69.8      43.0                   f        INDIVIDUAL   \n",
       "\n",
       "  mort_acc  pub_rec_bankruptcies  \\\n",
       "0      0.0                   0.0   \n",
       "1      3.0                   0.0   \n",
       "2      0.0                   0.0   \n",
       "3      0.0                   0.0   \n",
       "4      1.0                   0.0   \n",
       "\n",
       "                                           address  loan_repaid  \n",
       "0     0174 Michelle Gateway\\nMendozaberg, OK 22690            1  \n",
       "1  1076 Carney Fort Apt. 347\\nLoganmouth, SD 05113            1  \n",
       "2  87025 Mark Dale Apt. 269\\nNew Sabrina, WV 05113            1  \n",
       "3            823 Reid Ford\\nDelacruzside, MA 00813            1  \n",
       "4             679 Luna Roads\\nGreggshire, VA 11650            0  \n",
       "\n",
       "[5 rows x 28 columns]"
      ]
     },
     "execution_count": 28,
     "metadata": {},
     "output_type": "execute_result"
    }
   ],
   "source": [
    "df.head()"
   ]
  },
  {
   "cell_type": "markdown",
   "metadata": {},
   "source": [
    "**We create a bar plot showing the correlation of the numeric features to the new loan_repaid column.**"
   ]
  },
  {
   "cell_type": "code",
   "execution_count": 29,
   "metadata": {},
   "outputs": [
    {
     "name": "stderr",
     "output_type": "stream",
     "text": [
      "C:\\Users\\RO20359598\\AppData\\Local\\Temp\\ipykernel_68836\\1199757168.py:1: FutureWarning: The default value of numeric_only in DataFrame.corr is deprecated. In a future version, it will default to False. Select only valid columns or specify the value of numeric_only to silence this warning.\n",
      "  df.corr()['loan_repaid'].sort_values()[:-1].plot(kind='bar',color='red')\n"
     ]
    },
    {
     "data": {
      "text/plain": [
       "<Axes: >"
      ]
     },
     "execution_count": 29,
     "metadata": {},
     "output_type": "execute_result"
    },
    {
     "data": {
      "image/png": "[encoded data removed]",
      "text/plain": [
       "<Figure size 640x480 with 1 Axes>"
      ]
     },
     "metadata": {},
     "output_type": "display_data"
    }
   ],
   "source": [
    "df.corr()['loan_repaid'].sort_values()[:-1].plot(kind='bar',color='red')"
   ]
  },
  {
   "cell_type": "markdown",
   "metadata": {},
   "source": [
    "---\n",
    "---\n",
    "# Part 2 - Data PreProcessing -- We will remove or fill any missing data, remove unnecessary or repetitive features.\n",
    "---\n"
   ]
  },
  {
   "cell_type": "code",
   "execution_count": 30,
   "metadata": {},
   "outputs": [
    {
     "data": {
      "text/html": [
       "<div>\n",
       "<style scoped>\n",
       "    .dataframe tbody tr th:only-of-type {\n",
       "        vertical-align: middle;\n",
       "    }\n",
       "\n",
       "    .dataframe tbody tr th {\n",
       "        vertical-align: top;\n",
       "    }\n",
       "\n",
       "    .dataframe thead th {\n",
       "        text-align: right;\n",
       "    }\n",
       "</style>\n",
       "<table border=\"1\" class=\"dataframe\">\n",
       "  <thead>\n",
       "    <tr style=\"text-align: right;\">\n",
       "      <th></th>\n",
       "      <th>loan_amnt</th>\n",
       "      <th>term</th>\n",
       "      <th>int_rate</th>\n",
       "      <th>installment</th>\n",
       "      <th>grade</th>\n",
       "      <th>sub_grade</th>\n",
       "      <th>emp_title</th>\n",
       "      <th>emp_length</th>\n",
       "      <th>home_ownership</th>\n",
       "      <th>annual_inc</th>\n",
       "      <th>...</th>\n",
       "      <th>pub_rec</th>\n",
       "      <th>revol_bal</th>\n",
       "      <th>revol_util</th>\n",
       "      <th>total_acc</th>\n",
       "      <th>initial_list_status</th>\n",
       "      <th>application_type</th>\n",
       "      <th>mort_acc</th>\n",
       "      <th>pub_rec_bankruptcies</th>\n",
       "      <th>address</th>\n",
       "      <th>loan_repaid</th>\n",
       "    </tr>\n",
       "  </thead>\n",
       "  <tbody>\n",
       "    <tr>\n",
       "      <th>0</th>\n",
       "      <td>10000.0</td>\n",
       "      <td>36 months</td>\n",
       "      <td>11.44</td>\n",
       "      <td>329.48</td>\n",
       "      <td>B</td>\n",
       "      <td>B4</td>\n",
       "      <td>Marketing</td>\n",
       "      <td>10+ years</td>\n",
       "      <td>RENT</td>\n",
       "      <td>117000.0</td>\n",
       "      <td>...</td>\n",
       "      <td>0.0</td>\n",
       "      <td>36369.0</td>\n",
       "      <td>41.8</td>\n",
       "      <td>25.0</td>\n",
       "      <td>w</td>\n",
       "      <td>INDIVIDUAL</td>\n",
       "      <td>0.0</td>\n",
       "      <td>0.0</td>\n",
       "      <td>0174 Michelle Gateway\\nMendozaberg, OK 22690</td>\n",
       "      <td>1</td>\n",
       "    </tr>\n",
       "    <tr>\n",
       "      <th>1</th>\n",
       "      <td>8000.0</td>\n",
       "      <td>36 months</td>\n",
       "      <td>11.99</td>\n",
       "      <td>265.68</td>\n",
       "      <td>B</td>\n",
       "      <td>B5</td>\n",
       "      <td>Credit analyst</td>\n",
       "      <td>4 years</td>\n",
       "      <td>MORTGAGE</td>\n",
       "      <td>65000.0</td>\n",
       "      <td>...</td>\n",
       "      <td>0.0</td>\n",
       "      <td>20131.0</td>\n",
       "      <td>53.3</td>\n",
       "      <td>27.0</td>\n",
       "      <td>f</td>\n",
       "      <td>INDIVIDUAL</td>\n",
       "      <td>3.0</td>\n",
       "      <td>0.0</td>\n",
       "      <td>1076 Carney Fort Apt. 347\\nLoganmouth, SD 05113</td>\n",
       "      <td>1</td>\n",
       "    </tr>\n",
       "    <tr>\n",
       "      <th>2</th>\n",
       "      <td>15600.0</td>\n",
       "      <td>36 months</td>\n",
       "      <td>10.49</td>\n",
       "      <td>506.97</td>\n",
       "      <td>B</td>\n",
       "      <td>B3</td>\n",
       "      <td>Statistician</td>\n",
       "      <td>&lt; 1 year</td>\n",
       "      <td>RENT</td>\n",
       "      <td>43057.0</td>\n",
       "      <td>...</td>\n",
       "      <td>0.0</td>\n",
       "      <td>11987.0</td>\n",
       "      <td>92.2</td>\n",
       "      <td>26.0</td>\n",
       "      <td>f</td>\n",
       "      <td>INDIVIDUAL</td>\n",
       "      <td>0.0</td>\n",
       "      <td>0.0</td>\n",
       "      <td>87025 Mark Dale Apt. 269\\nNew Sabrina, WV 05113</td>\n",
       "      <td>1</td>\n",
       "    </tr>\n",
       "    <tr>\n",
       "      <th>3</th>\n",
       "      <td>7200.0</td>\n",
       "      <td>36 months</td>\n",
       "      <td>6.49</td>\n",
       "      <td>220.65</td>\n",
       "      <td>A</td>\n",
       "      <td>A2</td>\n",
       "      <td>Client Advocate</td>\n",
       "      <td>6 years</td>\n",
       "      <td>RENT</td>\n",
       "      <td>54000.0</td>\n",
       "      <td>...</td>\n",
       "      <td>0.0</td>\n",
       "      <td>5472.0</td>\n",
       "      <td>21.5</td>\n",
       "      <td>13.0</td>\n",
       "      <td>f</td>\n",
       "      <td>INDIVIDUAL</td>\n",
       "      <td>0.0</td>\n",
       "      <td>0.0</td>\n",
       "      <td>823 Reid Ford\\nDelacruzside, MA 00813</td>\n",
       "      <td>1</td>\n",
       "    </tr>\n",
       "    <tr>\n",
       "      <th>4</th>\n",
       "      <td>24375.0</td>\n",
       "      <td>60 months</td>\n",
       "      <td>17.27</td>\n",
       "      <td>609.33</td>\n",
       "      <td>C</td>\n",
       "      <td>C5</td>\n",
       "      <td>Destiny Management Inc.</td>\n",
       "      <td>9 years</td>\n",
       "      <td>MORTGAGE</td>\n",
       "      <td>55000.0</td>\n",
       "      <td>...</td>\n",
       "      <td>0.0</td>\n",
       "      <td>24584.0</td>\n",
       "      <td>69.8</td>\n",
       "      <td>43.0</td>\n",
       "      <td>f</td>\n",
       "      <td>INDIVIDUAL</td>\n",
       "      <td>1.0</td>\n",
       "      <td>0.0</td>\n",
       "      <td>679 Luna Roads\\nGreggshire, VA 11650</td>\n",
       "      <td>0</td>\n",
       "    </tr>\n",
       "  </tbody>\n",
       "</table>\n",
       "<p>5 rows × 28 columns</p>\n",
       "</div>"
      ],
      "text/plain": [
       "   loan_amnt        term  int_rate  installment grade sub_grade  \\\n",
       "0    10000.0   36 months     11.44       329.48     B        B4   \n",
       "1     8000.0   36 months     11.99       265.68     B        B5   \n",
       "2    15600.0   36 months     10.49       506.97     B        B3   \n",
       "3     7200.0   36 months      6.49       220.65     A        A2   \n",
       "4    24375.0   60 months     17.27       609.33     C        C5   \n",
       "\n",
       "                 emp_title emp_length home_ownership  annual_inc  ... pub_rec  \\\n",
       "0                Marketing  10+ years           RENT    117000.0  ...     0.0   \n",
       "1          Credit analyst     4 years       MORTGAGE     65000.0  ...     0.0   \n",
       "2             Statistician   < 1 year           RENT     43057.0  ...     0.0   \n",
       "3          Client Advocate    6 years           RENT     54000.0  ...     0.0   \n",
       "4  Destiny Management Inc.    9 years       MORTGAGE     55000.0  ...     0.0   \n",
       "\n",
       "  revol_bal revol_util total_acc initial_list_status  application_type  \\\n",
       "0   36369.0       41.8      25.0                   w        INDIVIDUAL   \n",
       "1   20131.0       53.3      27.0                   f        INDIVIDUAL   \n",
       "2   11987.0       92.2      26.0                   f        INDIVIDUAL   \n",
       "3    5472.0       21.5      13.0                   f        INDIVIDUAL   \n",
       "4   24584.0       69.8      43.0                   f        INDIVIDUAL   \n",
       "\n",
       "  mort_acc  pub_rec_bankruptcies  \\\n",
       "0      0.0                   0.0   \n",
       "1      3.0                   0.0   \n",
       "2      0.0                   0.0   \n",
       "3      0.0                   0.0   \n",
       "4      1.0                   0.0   \n",
       "\n",
       "                                           address  loan_repaid  \n",
       "0     0174 Michelle Gateway\\nMendozaberg, OK 22690            1  \n",
       "1  1076 Carney Fort Apt. 347\\nLoganmouth, SD 05113            1  \n",
       "2  87025 Mark Dale Apt. 269\\nNew Sabrina, WV 05113            1  \n",
       "3            823 Reid Ford\\nDelacruzside, MA 00813            1  \n",
       "4             679 Luna Roads\\nGreggshire, VA 11650            0  \n",
       "\n",
       "[5 rows x 28 columns]"
      ]
     },
     "execution_count": 30,
     "metadata": {},
     "output_type": "execute_result"
    }
   ],
   "source": [
    "df.head()"
   ]
  },
  {
   "cell_type": "markdown",
   "metadata": {},
   "source": [
    "# Missing Data"
   ]
  },
  {
   "cell_type": "code",
   "execution_count": 31,
   "metadata": {},
   "outputs": [
    {
     "data": {
      "text/plain": [
       "396030"
      ]
     },
     "execution_count": 31,
     "metadata": {},
     "output_type": "execute_result"
    }
   ],
   "source": [
    "len(df)"
   ]
  },
  {
   "cell_type": "markdown",
   "metadata": {},
   "source": [
    "**Total Count of missing values per label.**"
   ]
  },
  {
   "cell_type": "code",
   "execution_count": 32,
   "metadata": {},
   "outputs": [
    {
     "data": {
      "text/plain": [
       "loan_amnt                   0\n",
       "term                        0\n",
       "int_rate                    0\n",
       "installment                 0\n",
       "grade                       0\n",
       "sub_grade                   0\n",
       "emp_title               22927\n",
       "emp_length              18301\n",
       "home_ownership              0\n",
       "annual_inc                  0\n",
       "verification_status         0\n",
       "issue_d                     0\n",
       "loan_status                 0\n",
       "purpose                     0\n",
       "title                    1755\n",
       "dti                         0\n",
       "earliest_cr_line            0\n",
       "open_acc                    0\n",
       "pub_rec                     0\n",
       "revol_bal                   0\n",
       "revol_util                276\n",
       "total_acc                   0\n",
       "initial_list_status         0\n",
       "application_type            0\n",
       "mort_acc                37795\n",
       "pub_rec_bankruptcies      535\n",
       "address                     0\n",
       "loan_repaid                 0\n",
       "dtype: int64"
      ]
     },
     "execution_count": 32,
     "metadata": {},
     "output_type": "execute_result"
    }
   ],
   "source": [
    "df.isnull().sum()"
   ]
  },
  {
   "cell_type": "markdown",
   "metadata": {},
   "source": [
    "**Total Count of missing values per label.(In Percentage)**"
   ]
  },
  {
   "cell_type": "code",
   "execution_count": 33,
   "metadata": {},
   "outputs": [
    {
     "data": {
      "text/plain": [
       "loan_amnt               0.000000\n",
       "term                    0.000000\n",
       "int_rate                0.000000\n",
       "installment             0.000000\n",
       "grade                   0.000000\n",
       "sub_grade               0.000000\n",
       "emp_title               5.789208\n",
       "emp_length              4.621115\n",
       "home_ownership          0.000000\n",
       "annual_inc              0.000000\n",
       "verification_status     0.000000\n",
       "issue_d                 0.000000\n",
       "loan_status             0.000000\n",
       "purpose                 0.000000\n",
       "title                   0.443148\n",
       "dti                     0.000000\n",
       "earliest_cr_line        0.000000\n",
       "open_acc                0.000000\n",
       "pub_rec                 0.000000\n",
       "revol_bal               0.000000\n",
       "revol_util              0.069692\n",
       "total_acc               0.000000\n",
       "initial_list_status     0.000000\n",
       "application_type        0.000000\n",
       "mort_acc                9.543469\n",
       "pub_rec_bankruptcies    0.135091\n",
       "address                 0.000000\n",
       "loan_repaid             0.000000\n",
       "dtype: float64"
      ]
     },
     "execution_count": 33,
     "metadata": {},
     "output_type": "execute_result"
    }
   ],
   "source": [
    "100*df.isnull().sum()/len(df)"
   ]
  },
  {
   "cell_type": "markdown",
   "metadata": {},
   "source": [
    "**We will handle each of the missing values step by step.**\n",
    "\n",
    "**Let's examine emp_title and emp_length to see whether it will be okay to drop them.**"
   ]
  },
  {
   "cell_type": "code",
   "execution_count": 34,
   "metadata": {},
   "outputs": [
    {
     "name": "stdout",
     "output_type": "stream",
     "text": [
      "emp_title = The job title supplied by the Borrower when applying for the loan.*\n",
      " \n",
      "emp_length = Employment length in years. Possible values are between 0 and 10 where 0 means less than one year and 10 means ten or more years. \n"
     ]
    }
   ],
   "source": [
    "feat_info('emp_title')\n",
    "print(\" \")\n",
    "feat_info('emp_length')"
   ]
  },
  {
   "cell_type": "markdown",
   "metadata": {},
   "source": [
    "**unique employment job titles**"
   ]
  },
  {
   "cell_type": "code",
   "execution_count": 35,
   "metadata": {},
   "outputs": [
    {
     "data": {
      "text/plain": [
       "173105"
      ]
     },
     "execution_count": 35,
     "metadata": {},
     "output_type": "execute_result"
    }
   ],
   "source": [
    "df['emp_title'].nunique()"
   ]
  },
  {
   "cell_type": "code",
   "execution_count": 36,
   "metadata": {},
   "outputs": [
    {
     "data": {
      "text/plain": [
       "Teacher                    4389\n",
       "Manager                    4250\n",
       "Registered Nurse           1856\n",
       "RN                         1846\n",
       "Supervisor                 1830\n",
       "                           ... \n",
       "Postman                       1\n",
       "McCarthy & Holthus, LLC       1\n",
       "jp flooring                   1\n",
       "Histology Technologist        1\n",
       "Gracon Services, Inc          1\n",
       "Name: emp_title, Length: 173105, dtype: int64"
      ]
     },
     "execution_count": 36,
     "metadata": {},
     "output_type": "execute_result"
    }
   ],
   "source": [
    "df['emp_title'].value_counts()"
   ]
  },
  {
   "cell_type": "markdown",
   "metadata": {},
   "source": [
    "**Since there are too many unique job titles to try to convert this to a dummy variable feature. Let's remove the emp_title column.**"
   ]
  },
  {
   "cell_type": "code",
   "execution_count": 37,
   "metadata": {},
   "outputs": [],
   "source": [
    "df.drop('emp_title',axis=1,inplace=True)"
   ]
  },
  {
   "cell_type": "code",
   "execution_count": 38,
   "metadata": {},
   "outputs": [
    {
     "data": {
      "text/plain": [
       "['1 year',\n",
       " '10+ years',\n",
       " '2 years',\n",
       " '3 years',\n",
       " '4 years',\n",
       " '5 years',\n",
       " '6 years',\n",
       " '7 years',\n",
       " '8 years',\n",
       " '9 years',\n",
       " '< 1 year']"
      ]
     },
     "execution_count": 38,
     "metadata": {},
     "output_type": "execute_result"
    }
   ],
   "source": [
    "sorted(df['emp_length'].dropna().unique())"
   ]
  },
  {
   "cell_type": "code",
   "execution_count": 39,
   "metadata": {},
   "outputs": [
    {
     "data": {
      "text/plain": [
       "<Axes: xlabel='emp_length', ylabel='count'>"
      ]
     },
     "execution_count": 39,
     "metadata": {},
     "output_type": "execute_result"
    },
    {
     "data": {
      "image/png": "[encoded data removed]",
      "text/plain": [
       "<Figure size 1000x400 with 1 Axes>"
      ]
     },
     "metadata": {},
     "output_type": "display_data"
    }
   ],
   "source": [
    "emp_length_order = [ '< 1 year',\n",
    "                      '1 year',\n",
    "                     '2 years',\n",
    "                     '3 years',\n",
    "                     '4 years',\n",
    "                     '5 years',\n",
    "                     '6 years',\n",
    "                     '7 years',\n",
    "                     '8 years',\n",
    "                     '9 years',\n",
    "                     '10+ years']\n",
    "plt.figure(figsize=(10,4))\n",
    "sns.countplot(data=df,x='emp_length',order=emp_length_order,palette='plasma')"
   ]
  },
  {
   "cell_type": "markdown",
   "metadata": {},
   "source": [
    "**Countplot with a hue separating Fully Paid vs Charged Off**"
   ]
  },
  {
   "cell_type": "code",
   "execution_count": 40,
   "metadata": {},
   "outputs": [
    {
     "data": {
      "text/plain": [
       "<Axes: xlabel='emp_length', ylabel='count'>"
      ]
     },
     "execution_count": 40,
     "metadata": {},
     "output_type": "execute_result"
    },
    {
     "data": {
      "image/png": "[encoded data removed]",
      "text/plain": [
       "<Figure size 1000x400 with 1 Axes>"
      ]
     },
     "metadata": {},
     "output_type": "display_data"
    }
   ],
   "source": [
    "plt.figure(figsize=(10,4))\n",
    "sns.countplot(data=df,x='emp_length',order=emp_length_order,palette='hot_r',hue='loan_status')"
   ]
  },
  {
   "cell_type": "markdown",
   "metadata": {},
   "source": [
    "**This still doesn't really inform us if there is a strong relationship between employment length and being charged off, what we want is the percentage of charge offs per category. Essentially informing us what percent of people per employment category didn't pay back their loan.**"
   ]
  },
  {
   "cell_type": "code",
   "execution_count": 41,
   "metadata": {},
   "outputs": [],
   "source": [
    "emp_fp=df[df[\"loan_status\"]=='Fully Paid'].groupby('emp_length').count()['loan_status']\n",
    "emp_co=df[df[\"loan_status\"]=='Charged Off'].groupby('emp_length').count()['loan_status']"
   ]
  },
  {
   "cell_type": "code",
   "execution_count": 42,
   "metadata": {},
   "outputs": [
    {
     "name": "stdout",
     "output_type": "stream",
     "text": [
      "emp_length\n",
      "1 year        5154\n",
      "10+ years    23215\n",
      "2 years       6924\n",
      "3 years       6182\n",
      "4 years       4608\n",
      "5 years       5092\n",
      "6 years       3943\n",
      "7 years       4055\n",
      "8 years       3829\n",
      "9 years       3070\n",
      "< 1 year      6563\n",
      "Name: loan_status, dtype: int64\n",
      "emp_length\n",
      "1 year        20728\n",
      "10+ years    102826\n",
      "2 years       28903\n",
      "3 years       25483\n",
      "4 years       19344\n",
      "5 years       21403\n",
      "6 years       16898\n",
      "7 years       16764\n",
      "8 years       15339\n",
      "9 years       12244\n",
      "< 1 year      25162\n",
      "Name: loan_status, dtype: int64\n"
     ]
    }
   ],
   "source": [
    "print(emp_co)\n",
    "print(emp_fp)"
   ]
  },
  {
   "cell_type": "code",
   "execution_count": 43,
   "metadata": {},
   "outputs": [],
   "source": [
    "emp_len=100*emp_co/(emp_fp+emp_co)"
   ]
  },
  {
   "cell_type": "code",
   "execution_count": 44,
   "metadata": {},
   "outputs": [
    {
     "data": {
      "text/plain": [
       "emp_length\n",
       "1 year       19.913453\n",
       "10+ years    18.418610\n",
       "2 years      19.326206\n",
       "3 years      19.523133\n",
       "4 years      19.238477\n",
       "5 years      19.218721\n",
       "6 years      18.919438\n",
       "7 years      19.477400\n",
       "8 years      19.976002\n",
       "9 years      20.047016\n",
       "< 1 year     20.687155\n",
       "Name: loan_status, dtype: float64"
      ]
     },
     "execution_count": 44,
     "metadata": {},
     "output_type": "execute_result"
    }
   ],
   "source": [
    "emp_len"
   ]
  },
  {
   "cell_type": "code",
   "execution_count": 45,
   "metadata": {},
   "outputs": [
    {
     "data": {
      "text/plain": [
       "<Axes: title={'center': '% of loans Charged Off per emp_length'}, xlabel='emp_length', ylabel='Percentage'>"
      ]
     },
     "execution_count": 45,
     "metadata": {},
     "output_type": "execute_result"
    },
    {
     "data": {
      "image/png": "[encoded data removed]",
      "text/plain": [
       "<Figure size 640x480 with 1 Axes>"
      ]
     },
     "metadata": {},
     "output_type": "display_data"
    }
   ],
   "source": [
    "emp_len.plot(kind='bar',color='black',title='% of loans Charged Off per emp_length',ylabel='Percentage')\n"
   ]
  },
  {
   "cell_type": "markdown",
   "metadata": {},
   "source": [
    "**Charge off rates are extremely similar across all employment lengths. So we will drop the emp_length column.**"
   ]
  },
  {
   "cell_type": "code",
   "execution_count": 46,
   "metadata": {},
   "outputs": [],
   "source": [
    "df.drop('emp_length',axis=1,inplace=True)"
   ]
  },
  {
   "cell_type": "code",
   "execution_count": 47,
   "metadata": {},
   "outputs": [
    {
     "data": {
      "text/plain": [
       "loan_amnt                   0\n",
       "term                        0\n",
       "int_rate                    0\n",
       "installment                 0\n",
       "grade                       0\n",
       "sub_grade                   0\n",
       "home_ownership              0\n",
       "annual_inc                  0\n",
       "verification_status         0\n",
       "issue_d                     0\n",
       "loan_status                 0\n",
       "purpose                     0\n",
       "title                    1755\n",
       "dti                         0\n",
       "earliest_cr_line            0\n",
       "open_acc                    0\n",
       "pub_rec                     0\n",
       "revol_bal                   0\n",
       "revol_util                276\n",
       "total_acc                   0\n",
       "initial_list_status         0\n",
       "application_type            0\n",
       "mort_acc                37795\n",
       "pub_rec_bankruptcies      535\n",
       "address                     0\n",
       "loan_repaid                 0\n",
       "dtype: int64"
      ]
     },
     "execution_count": 47,
     "metadata": {},
     "output_type": "execute_result"
    }
   ],
   "source": [
    "df.isna().sum()"
   ]
  },
  {
   "cell_type": "markdown",
   "metadata": {},
   "source": [
    "**We will now review the title column vs the purpose column.**"
   ]
  },
  {
   "cell_type": "code",
   "execution_count": 48,
   "metadata": {},
   "outputs": [
    {
     "data": {
      "text/plain": [
       "0                   Vacation\n",
       "1         Debt consolidation\n",
       "2    Credit card refinancing\n",
       "3    Credit card refinancing\n",
       "4      Credit Card Refinance\n",
       "5         Debt consolidation\n",
       "6           Home improvement\n",
       "7       No More Credit Cards\n",
       "8         Debt consolidation\n",
       "9         Debt Consolidation\n",
       "Name: title, dtype: object"
      ]
     },
     "execution_count": 48,
     "metadata": {},
     "output_type": "execute_result"
    }
   ],
   "source": [
    "df['title'].head(10)"
   ]
  },
  {
   "cell_type": "code",
   "execution_count": 49,
   "metadata": {},
   "outputs": [
    {
     "data": {
      "text/plain": [
       "0              vacation\n",
       "1    debt_consolidation\n",
       "2           credit_card\n",
       "3           credit_card\n",
       "4           credit_card\n",
       "5    debt_consolidation\n",
       "6      home_improvement\n",
       "7           credit_card\n",
       "8    debt_consolidation\n",
       "9    debt_consolidation\n",
       "Name: purpose, dtype: object"
      ]
     },
     "execution_count": 49,
     "metadata": {},
     "output_type": "execute_result"
    }
   ],
   "source": [
    "df['purpose'].head(10)"
   ]
  },
  {
   "cell_type": "markdown",
   "metadata": {},
   "source": [
    "**We can clearly see that the information is repeated in both columns, So we will go ahead and drop the 'title' column.**"
   ]
  },
  {
   "cell_type": "code",
   "execution_count": 50,
   "metadata": {},
   "outputs": [],
   "source": [
    "df.drop('title',axis=1,inplace=True)"
   ]
  },
  {
   "cell_type": "code",
   "execution_count": 51,
   "metadata": {},
   "outputs": [
    {
     "data": {
      "text/plain": [
       "loan_amnt                   0\n",
       "term                        0\n",
       "int_rate                    0\n",
       "installment                 0\n",
       "grade                       0\n",
       "sub_grade                   0\n",
       "home_ownership              0\n",
       "annual_inc                  0\n",
       "verification_status         0\n",
       "issue_d                     0\n",
       "loan_status                 0\n",
       "purpose                     0\n",
       "dti                         0\n",
       "earliest_cr_line            0\n",
       "open_acc                    0\n",
       "pub_rec                     0\n",
       "revol_bal                   0\n",
       "revol_util                276\n",
       "total_acc                   0\n",
       "initial_list_status         0\n",
       "application_type            0\n",
       "mort_acc                37795\n",
       "pub_rec_bankruptcies      535\n",
       "address                     0\n",
       "loan_repaid                 0\n",
       "dtype: int64"
      ]
     },
     "execution_count": 51,
     "metadata": {},
     "output_type": "execute_result"
    }
   ],
   "source": [
    "df.isnull().sum()"
   ]
  },
  {
   "cell_type": "markdown",
   "metadata": {},
   "source": [
    "**Now, We will turn our attention to 'mort_acc'.we will find out what the mort_acc feature represents**"
   ]
  },
  {
   "cell_type": "code",
   "execution_count": 52,
   "metadata": {},
   "outputs": [
    {
     "name": "stdout",
     "output_type": "stream",
     "text": [
      "mort_acc = Number of mortgage accounts.\n"
     ]
    }
   ],
   "source": [
    "feat_info('mort_acc')"
   ]
  },
  {
   "cell_type": "code",
   "execution_count": 53,
   "metadata": {},
   "outputs": [
    {
     "data": {
      "text/plain": [
       "0.0     139777\n",
       "1.0      60416\n",
       "2.0      49948\n",
       "3.0      38049\n",
       "4.0      27887\n",
       "5.0      18194\n",
       "6.0      11069\n",
       "7.0       6052\n",
       "8.0       3121\n",
       "9.0       1656\n",
       "10.0       865\n",
       "11.0       479\n",
       "12.0       264\n",
       "13.0       146\n",
       "14.0       107\n",
       "15.0        61\n",
       "16.0        37\n",
       "17.0        22\n",
       "18.0        18\n",
       "19.0        15\n",
       "20.0        13\n",
       "24.0        10\n",
       "22.0         7\n",
       "21.0         4\n",
       "25.0         4\n",
       "27.0         3\n",
       "32.0         2\n",
       "31.0         2\n",
       "23.0         2\n",
       "26.0         2\n",
       "28.0         1\n",
       "30.0         1\n",
       "34.0         1\n",
       "Name: mort_acc, dtype: int64"
      ]
     },
     "execution_count": 53,
     "metadata": {},
     "output_type": "execute_result"
    }
   ],
   "source": [
    "df['mort_acc'].value_counts()"
   ]
  },
  {
   "cell_type": "code",
   "execution_count": 54,
   "metadata": {},
   "outputs": [
    {
     "name": "stderr",
     "output_type": "stream",
     "text": [
      "C:\\Users\\RO20359598\\AppData\\Local\\Temp\\ipykernel_68836\\2388834679.py:1: FutureWarning: The default value of numeric_only in DataFrame.corr is deprecated. In a future version, it will default to False. Select only valid columns or specify the value of numeric_only to silence this warning.\n",
      "  df.corr()['mort_acc'].sort_values()\n"
     ]
    },
    {
     "data": {
      "text/plain": [
       "int_rate               -0.082583\n",
       "dti                    -0.025439\n",
       "revol_util              0.007514\n",
       "pub_rec                 0.011552\n",
       "pub_rec_bankruptcies    0.027239\n",
       "loan_repaid             0.073111\n",
       "open_acc                0.109205\n",
       "installment             0.193694\n",
       "revol_bal               0.194925\n",
       "loan_amnt               0.222315\n",
       "annual_inc              0.236320\n",
       "total_acc               0.381072\n",
       "mort_acc                1.000000\n",
       "Name: mort_acc, dtype: float64"
      ]
     },
     "execution_count": 54,
     "metadata": {},
     "output_type": "execute_result"
    }
   ],
   "source": [
    "df.corr()['mort_acc'].sort_values()"
   ]
  },
  {
   "cell_type": "markdown",
   "metadata": {},
   "source": [
    "**From the above correlation values, it looks like the total_acc feature correlates the most with the mort_acc.**"
   ]
  },
  {
   "cell_type": "code",
   "execution_count": 55,
   "metadata": {},
   "outputs": [
    {
     "data": {
      "text/plain": [
       "total_acc\n",
       "2.0      0.000000\n",
       "3.0      0.052023\n",
       "4.0      0.066743\n",
       "5.0      0.103289\n",
       "6.0      0.151293\n",
       "           ...   \n",
       "124.0    1.000000\n",
       "129.0    1.000000\n",
       "135.0    3.000000\n",
       "150.0    2.000000\n",
       "151.0    0.000000\n",
       "Name: mort_acc, Length: 118, dtype: float64"
      ]
     },
     "execution_count": 55,
     "metadata": {},
     "output_type": "execute_result"
    }
   ],
   "source": [
    "total_acc_avg=df.groupby('total_acc')['mort_acc'].mean()\n",
    "total_acc_avg"
   ]
  },
  {
   "cell_type": "markdown",
   "metadata": {},
   "source": [
    "**Wherever the 'mort_acc' is missing, then we will fill in that missing value with the mean value corresponding to its 'total_acc' value from the Series we created above.**"
   ]
  },
  {
   "cell_type": "code",
   "execution_count": 56,
   "metadata": {},
   "outputs": [],
   "source": [
    "def fill_mort(acc,mort):\n",
    "    if np.isnan(mort):\n",
    "        return total_acc_avg[acc]\n",
    "    else:\n",
    "        return mort\n"
   ]
  },
  {
   "cell_type": "code",
   "execution_count": 57,
   "metadata": {},
   "outputs": [],
   "source": [
    "df['mort_acc']=df.apply(lambda x : fill_mort(x['total_acc'],x['mort_acc']),axis=1)"
   ]
  },
  {
   "cell_type": "code",
   "execution_count": 58,
   "metadata": {},
   "outputs": [
    {
     "data": {
      "text/plain": [
       "loan_amnt                 0\n",
       "term                      0\n",
       "int_rate                  0\n",
       "installment               0\n",
       "grade                     0\n",
       "sub_grade                 0\n",
       "home_ownership            0\n",
       "annual_inc                0\n",
       "verification_status       0\n",
       "issue_d                   0\n",
       "loan_status               0\n",
       "purpose                   0\n",
       "dti                       0\n",
       "earliest_cr_line          0\n",
       "open_acc                  0\n",
       "pub_rec                   0\n",
       "revol_bal                 0\n",
       "revol_util              276\n",
       "total_acc                 0\n",
       "initial_list_status       0\n",
       "application_type          0\n",
       "mort_acc                  0\n",
       "pub_rec_bankruptcies    535\n",
       "address                   0\n",
       "loan_repaid               0\n",
       "dtype: int64"
      ]
     },
     "execution_count": 58,
     "metadata": {},
     "output_type": "execute_result"
    }
   ],
   "source": [
    "df.isnull().sum()"
   ]
  },
  {
   "cell_type": "markdown",
   "metadata": {},
   "source": [
    "**Since the missing data points for 'revol_util' and the 'pub_rec_bankruptcies' account for less than 0.5% of the total data. We can go ahead and remove the rows that are missing those values in those columns with dropna().**"
   ]
  },
  {
   "cell_type": "code",
   "execution_count": 59,
   "metadata": {},
   "outputs": [],
   "source": [
    "df.dropna(inplace=True)"
   ]
  },
  {
   "cell_type": "code",
   "execution_count": 60,
   "metadata": {},
   "outputs": [
    {
     "data": {
      "text/plain": [
       "loan_amnt               0\n",
       "term                    0\n",
       "int_rate                0\n",
       "installment             0\n",
       "grade                   0\n",
       "sub_grade               0\n",
       "home_ownership          0\n",
       "annual_inc              0\n",
       "verification_status     0\n",
       "issue_d                 0\n",
       "loan_status             0\n",
       "purpose                 0\n",
       "dti                     0\n",
       "earliest_cr_line        0\n",
       "open_acc                0\n",
       "pub_rec                 0\n",
       "revol_bal               0\n",
       "revol_util              0\n",
       "total_acc               0\n",
       "initial_list_status     0\n",
       "application_type        0\n",
       "mort_acc                0\n",
       "pub_rec_bankruptcies    0\n",
       "address                 0\n",
       "loan_repaid             0\n",
       "dtype: int64"
      ]
     },
     "execution_count": 60,
     "metadata": {},
     "output_type": "execute_result"
    }
   ],
   "source": [
    "df.isnull().sum()"
   ]
  },
  {
   "cell_type": "markdown",
   "metadata": {},
   "source": [
    "## Part 3 - Categorical Variables and Dummy Variables\n",
    "\n",
    "**We will first list down all labels which are non-numeric.**"
   ]
  },
  {
   "cell_type": "code",
   "execution_count": 61,
   "metadata": {},
   "outputs": [
    {
     "data": {
      "text/plain": [
       "['term',\n",
       " 'grade',\n",
       " 'sub_grade',\n",
       " 'home_ownership',\n",
       " 'verification_status',\n",
       " 'issue_d',\n",
       " 'loan_status',\n",
       " 'purpose',\n",
       " 'earliest_cr_line',\n",
       " 'initial_list_status',\n",
       " 'application_type',\n",
       " 'address']"
      ]
     },
     "execution_count": 61,
     "metadata": {},
     "output_type": "execute_result"
    }
   ],
   "source": [
    "list(df.select_dtypes(['object']).columns)"
   ]
  },
  {
   "cell_type": "markdown",
   "metadata": {},
   "source": [
    "### Term Feature"
   ]
  },
  {
   "cell_type": "code",
   "execution_count": 62,
   "metadata": {},
   "outputs": [
    {
     "data": {
      "text/plain": [
       "0     36 months\n",
       "1     36 months\n",
       "2     36 months\n",
       "3     36 months\n",
       "4     60 months\n",
       "Name: term, dtype: object"
      ]
     },
     "execution_count": 62,
     "metadata": {},
     "output_type": "execute_result"
    }
   ],
   "source": [
    "df['term'].head()"
   ]
  },
  {
   "cell_type": "markdown",
   "metadata": {},
   "source": [
    "**We will convert the label into an integer with removing the string \"months\" from it.**"
   ]
  },
  {
   "cell_type": "code",
   "execution_count": 64,
   "metadata": {},
   "outputs": [],
   "source": [
    "df['term'] = df['term'].apply(lambda term: int(term[:3]))"
   ]
  },
  {
   "cell_type": "code",
   "execution_count": 65,
   "metadata": {},
   "outputs": [
    {
     "data": {
      "text/plain": [
       "array([36, 60], dtype=int64)"
      ]
     },
     "execution_count": 65,
     "metadata": {},
     "output_type": "execute_result"
    }
   ],
   "source": [
    "df['term'].unique()"
   ]
  },
  {
   "cell_type": "markdown",
   "metadata": {},
   "source": [
    "### grade feature\n",
    "\n",
    "**grade is already a level higher of sub_grade, so just drop the grade feature.**"
   ]
  },
  {
   "cell_type": "code",
   "execution_count": 66,
   "metadata": {},
   "outputs": [],
   "source": [
    "df.drop('grade',axis=1,inplace=True)"
   ]
  },
  {
   "cell_type": "markdown",
   "metadata": {},
   "source": [
    "**We will convert the subgrade into dummy variables and then concatenate these new columns to the original dataframe.**"
   ]
  },
  {
   "cell_type": "code",
   "execution_count": 67,
   "metadata": {},
   "outputs": [],
   "source": [
    "subgrade_dummies=pd.get_dummies(data=df['sub_grade'],drop_first=True)"
   ]
  },
  {
   "cell_type": "code",
   "execution_count": 68,
   "metadata": {},
   "outputs": [
    {
     "data": {
      "text/html": [
       "<div>\n",
       "<style scoped>\n",
       "    .dataframe tbody tr th:only-of-type {\n",
       "        vertical-align: middle;\n",
       "    }\n",
       "\n",
       "    .dataframe tbody tr th {\n",
       "        vertical-align: top;\n",
       "    }\n",
       "\n",
       "    .dataframe thead th {\n",
       "        text-align: right;\n",
       "    }\n",
       "</style>\n",
       "<table border=\"1\" class=\"dataframe\">\n",
       "  <thead>\n",
       "    <tr style=\"text-align: right;\">\n",
       "      <th></th>\n",
       "      <th>A2</th>\n",
       "      <th>A3</th>\n",
       "      <th>A4</th>\n",
       "      <th>A5</th>\n",
       "      <th>B1</th>\n",
       "      <th>B2</th>\n",
       "      <th>B3</th>\n",
       "      <th>B4</th>\n",
       "      <th>B5</th>\n",
       "      <th>C1</th>\n",
       "      <th>...</th>\n",
       "      <th>F1</th>\n",
       "      <th>F2</th>\n",
       "      <th>F3</th>\n",
       "      <th>F4</th>\n",
       "      <th>F5</th>\n",
       "      <th>G1</th>\n",
       "      <th>G2</th>\n",
       "      <th>G3</th>\n",
       "      <th>G4</th>\n",
       "      <th>G5</th>\n",
       "    </tr>\n",
       "  </thead>\n",
       "  <tbody>\n",
       "    <tr>\n",
       "      <th>0</th>\n",
       "      <td>0</td>\n",
       "      <td>0</td>\n",
       "      <td>0</td>\n",
       "      <td>0</td>\n",
       "      <td>0</td>\n",
       "      <td>0</td>\n",
       "      <td>0</td>\n",
       "      <td>1</td>\n",
       "      <td>0</td>\n",
       "      <td>0</td>\n",
       "      <td>...</td>\n",
       "      <td>0</td>\n",
       "      <td>0</td>\n",
       "      <td>0</td>\n",
       "      <td>0</td>\n",
       "      <td>0</td>\n",
       "      <td>0</td>\n",
       "      <td>0</td>\n",
       "      <td>0</td>\n",
       "      <td>0</td>\n",
       "      <td>0</td>\n",
       "    </tr>\n",
       "    <tr>\n",
       "      <th>1</th>\n",
       "      <td>0</td>\n",
       "      <td>0</td>\n",
       "      <td>0</td>\n",
       "      <td>0</td>\n",
       "      <td>0</td>\n",
       "      <td>0</td>\n",
       "      <td>0</td>\n",
       "      <td>0</td>\n",
       "      <td>1</td>\n",
       "      <td>0</td>\n",
       "      <td>...</td>\n",
       "      <td>0</td>\n",
       "      <td>0</td>\n",
       "      <td>0</td>\n",
       "      <td>0</td>\n",
       "      <td>0</td>\n",
       "      <td>0</td>\n",
       "      <td>0</td>\n",
       "      <td>0</td>\n",
       "      <td>0</td>\n",
       "      <td>0</td>\n",
       "    </tr>\n",
       "    <tr>\n",
       "      <th>2</th>\n",
       "      <td>0</td>\n",
       "      <td>0</td>\n",
       "      <td>0</td>\n",
       "      <td>0</td>\n",
       "      <td>0</td>\n",
       "      <td>0</td>\n",
       "      <td>1</td>\n",
       "      <td>0</td>\n",
       "      <td>0</td>\n",
       "      <td>0</td>\n",
       "      <td>...</td>\n",
       "      <td>0</td>\n",
       "      <td>0</td>\n",
       "      <td>0</td>\n",
       "      <td>0</td>\n",
       "      <td>0</td>\n",
       "      <td>0</td>\n",
       "      <td>0</td>\n",
       "      <td>0</td>\n",
       "      <td>0</td>\n",
       "      <td>0</td>\n",
       "    </tr>\n",
       "    <tr>\n",
       "      <th>3</th>\n",
       "      <td>1</td>\n",
       "      <td>0</td>\n",
       "      <td>0</td>\n",
       "      <td>0</td>\n",
       "      <td>0</td>\n",
       "      <td>0</td>\n",
       "      <td>0</td>\n",
       "      <td>0</td>\n",
       "      <td>0</td>\n",
       "      <td>0</td>\n",
       "      <td>...</td>\n",
       "      <td>0</td>\n",
       "      <td>0</td>\n",
       "      <td>0</td>\n",
       "      <td>0</td>\n",
       "      <td>0</td>\n",
       "      <td>0</td>\n",
       "      <td>0</td>\n",
       "      <td>0</td>\n",
       "      <td>0</td>\n",
       "      <td>0</td>\n",
       "    </tr>\n",
       "    <tr>\n",
       "      <th>4</th>\n",
       "      <td>0</td>\n",
       "      <td>0</td>\n",
       "      <td>0</td>\n",
       "      <td>0</td>\n",
       "      <td>0</td>\n",
       "      <td>0</td>\n",
       "      <td>0</td>\n",
       "      <td>0</td>\n",
       "      <td>0</td>\n",
       "      <td>0</td>\n",
       "      <td>...</td>\n",
       "      <td>0</td>\n",
       "      <td>0</td>\n",
       "      <td>0</td>\n",
       "      <td>0</td>\n",
       "      <td>0</td>\n",
       "      <td>0</td>\n",
       "      <td>0</td>\n",
       "      <td>0</td>\n",
       "      <td>0</td>\n",
       "      <td>0</td>\n",
       "    </tr>\n",
       "    <tr>\n",
       "      <th>...</th>\n",
       "      <td>...</td>\n",
       "      <td>...</td>\n",
       "      <td>...</td>\n",
       "      <td>...</td>\n",
       "      <td>...</td>\n",
       "      <td>...</td>\n",
       "      <td>...</td>\n",
       "      <td>...</td>\n",
       "      <td>...</td>\n",
       "      <td>...</td>\n",
       "      <td>...</td>\n",
       "      <td>...</td>\n",
       "      <td>...</td>\n",
       "      <td>...</td>\n",
       "      <td>...</td>\n",
       "      <td>...</td>\n",
       "      <td>...</td>\n",
       "      <td>...</td>\n",
       "      <td>...</td>\n",
       "      <td>...</td>\n",
       "      <td>...</td>\n",
       "    </tr>\n",
       "    <tr>\n",
       "      <th>396025</th>\n",
       "      <td>0</td>\n",
       "      <td>0</td>\n",
       "      <td>0</td>\n",
       "      <td>0</td>\n",
       "      <td>0</td>\n",
       "      <td>0</td>\n",
       "      <td>0</td>\n",
       "      <td>1</td>\n",
       "      <td>0</td>\n",
       "      <td>0</td>\n",
       "      <td>...</td>\n",
       "      <td>0</td>\n",
       "      <td>0</td>\n",
       "      <td>0</td>\n",
       "      <td>0</td>\n",
       "      <td>0</td>\n",
       "      <td>0</td>\n",
       "      <td>0</td>\n",
       "      <td>0</td>\n",
       "      <td>0</td>\n",
       "      <td>0</td>\n",
       "    </tr>\n",
       "    <tr>\n",
       "      <th>396026</th>\n",
       "      <td>0</td>\n",
       "      <td>0</td>\n",
       "      <td>0</td>\n",
       "      <td>0</td>\n",
       "      <td>0</td>\n",
       "      <td>0</td>\n",
       "      <td>0</td>\n",
       "      <td>0</td>\n",
       "      <td>0</td>\n",
       "      <td>1</td>\n",
       "      <td>...</td>\n",
       "      <td>0</td>\n",
       "      <td>0</td>\n",
       "      <td>0</td>\n",
       "      <td>0</td>\n",
       "      <td>0</td>\n",
       "      <td>0</td>\n",
       "      <td>0</td>\n",
       "      <td>0</td>\n",
       "      <td>0</td>\n",
       "      <td>0</td>\n",
       "    </tr>\n",
       "    <tr>\n",
       "      <th>396027</th>\n",
       "      <td>0</td>\n",
       "      <td>0</td>\n",
       "      <td>0</td>\n",
       "      <td>0</td>\n",
       "      <td>1</td>\n",
       "      <td>0</td>\n",
       "      <td>0</td>\n",
       "      <td>0</td>\n",
       "      <td>0</td>\n",
       "      <td>0</td>\n",
       "      <td>...</td>\n",
       "      <td>0</td>\n",
       "      <td>0</td>\n",
       "      <td>0</td>\n",
       "      <td>0</td>\n",
       "      <td>0</td>\n",
       "      <td>0</td>\n",
       "      <td>0</td>\n",
       "      <td>0</td>\n",
       "      <td>0</td>\n",
       "      <td>0</td>\n",
       "    </tr>\n",
       "    <tr>\n",
       "      <th>396028</th>\n",
       "      <td>0</td>\n",
       "      <td>0</td>\n",
       "      <td>0</td>\n",
       "      <td>0</td>\n",
       "      <td>0</td>\n",
       "      <td>0</td>\n",
       "      <td>0</td>\n",
       "      <td>0</td>\n",
       "      <td>0</td>\n",
       "      <td>0</td>\n",
       "      <td>...</td>\n",
       "      <td>0</td>\n",
       "      <td>0</td>\n",
       "      <td>0</td>\n",
       "      <td>0</td>\n",
       "      <td>0</td>\n",
       "      <td>0</td>\n",
       "      <td>0</td>\n",
       "      <td>0</td>\n",
       "      <td>0</td>\n",
       "      <td>0</td>\n",
       "    </tr>\n",
       "    <tr>\n",
       "      <th>396029</th>\n",
       "      <td>0</td>\n",
       "      <td>0</td>\n",
       "      <td>0</td>\n",
       "      <td>0</td>\n",
       "      <td>0</td>\n",
       "      <td>0</td>\n",
       "      <td>0</td>\n",
       "      <td>0</td>\n",
       "      <td>0</td>\n",
       "      <td>0</td>\n",
       "      <td>...</td>\n",
       "      <td>0</td>\n",
       "      <td>0</td>\n",
       "      <td>0</td>\n",
       "      <td>0</td>\n",
       "      <td>0</td>\n",
       "      <td>0</td>\n",
       "      <td>0</td>\n",
       "      <td>0</td>\n",
       "      <td>0</td>\n",
       "      <td>0</td>\n",
       "    </tr>\n",
       "  </tbody>\n",
       "</table>\n",
       "<p>395219 rows × 34 columns</p>\n",
       "</div>"
      ],
      "text/plain": [
       "        A2  A3  A4  A5  B1  B2  B3  B4  B5  C1  ...  F1  F2  F3  F4  F5  G1  \\\n",
       "0        0   0   0   0   0   0   0   1   0   0  ...   0   0   0   0   0   0   \n",
       "1        0   0   0   0   0   0   0   0   1   0  ...   0   0   0   0   0   0   \n",
       "2        0   0   0   0   0   0   1   0   0   0  ...   0   0   0   0   0   0   \n",
       "3        1   0   0   0   0   0   0   0   0   0  ...   0   0   0   0   0   0   \n",
       "4        0   0   0   0   0   0   0   0   0   0  ...   0   0   0   0   0   0   \n",
       "...     ..  ..  ..  ..  ..  ..  ..  ..  ..  ..  ...  ..  ..  ..  ..  ..  ..   \n",
       "396025   0   0   0   0   0   0   0   1   0   0  ...   0   0   0   0   0   0   \n",
       "396026   0   0   0   0   0   0   0   0   0   1  ...   0   0   0   0   0   0   \n",
       "396027   0   0   0   0   1   0   0   0   0   0  ...   0   0   0   0   0   0   \n",
       "396028   0   0   0   0   0   0   0   0   0   0  ...   0   0   0   0   0   0   \n",
       "396029   0   0   0   0   0   0   0   0   0   0  ...   0   0   0   0   0   0   \n",
       "\n",
       "        G2  G3  G4  G5  \n",
       "0        0   0   0   0  \n",
       "1        0   0   0   0  \n",
       "2        0   0   0   0  \n",
       "3        0   0   0   0  \n",
       "4        0   0   0   0  \n",
       "...     ..  ..  ..  ..  \n",
       "396025   0   0   0   0  \n",
       "396026   0   0   0   0  \n",
       "396027   0   0   0   0  \n",
       "396028   0   0   0   0  \n",
       "396029   0   0   0   0  \n",
       "\n",
       "[395219 rows x 34 columns]"
      ]
     },
     "execution_count": 68,
     "metadata": {},
     "output_type": "execute_result"
    }
   ],
   "source": [
    "subgrade_dummies"
   ]
  },
  {
   "cell_type": "code",
   "execution_count": 69,
   "metadata": {},
   "outputs": [],
   "source": [
    "df = pd.concat([df.drop('sub_grade',axis=1),subgrade_dummies],axis=1)"
   ]
  },
  {
   "cell_type": "code",
   "execution_count": 70,
   "metadata": {},
   "outputs": [
    {
     "data": {
      "text/plain": [
       "Index(['loan_amnt', 'term', 'int_rate', 'installment', 'home_ownership',\n",
       "       'annual_inc', 'verification_status', 'issue_d', 'loan_status',\n",
       "       'purpose', 'dti', 'earliest_cr_line', 'open_acc', 'pub_rec',\n",
       "       'revol_bal', 'revol_util', 'total_acc', 'initial_list_status',\n",
       "       'application_type', 'mort_acc', 'pub_rec_bankruptcies', 'address',\n",
       "       'loan_repaid', 'A2', 'A3', 'A4', 'A5', 'B1', 'B2', 'B3', 'B4', 'B5',\n",
       "       'C1', 'C2', 'C3', 'C4', 'C5', 'D1', 'D2', 'D3', 'D4', 'D5', 'E1', 'E2',\n",
       "       'E3', 'E4', 'E5', 'F1', 'F2', 'F3', 'F4', 'F5', 'G1', 'G2', 'G3', 'G4',\n",
       "       'G5'],\n",
       "      dtype='object')"
      ]
     },
     "execution_count": 70,
     "metadata": {},
     "output_type": "execute_result"
    }
   ],
   "source": [
    "df.columns"
   ]
  },
  {
   "cell_type": "code",
   "execution_count": 71,
   "metadata": {},
   "outputs": [
    {
     "data": {
      "text/plain": [
       "['home_ownership',\n",
       " 'verification_status',\n",
       " 'issue_d',\n",
       " 'loan_status',\n",
       " 'purpose',\n",
       " 'earliest_cr_line',\n",
       " 'initial_list_status',\n",
       " 'application_type',\n",
       " 'address']"
      ]
     },
     "execution_count": 71,
     "metadata": {},
     "output_type": "execute_result"
    }
   ],
   "source": [
    "list(df.select_dtypes(['object']).columns)"
   ]
  },
  {
   "cell_type": "markdown",
   "metadata": {},
   "source": [
    "### verification_status, application_type,initial_list_status,purpose \n",
    "**We will convert the columns: 'verification_status', 'application_type','initial_list_status','purpose' into dummy variables and concatenate them with the original dataframe.**"
   ]
  },
  {
   "cell_type": "code",
   "execution_count": 72,
   "metadata": {},
   "outputs": [],
   "source": [
    "dummies = pd.get_dummies(df[['verification_status', 'application_type','initial_list_status','purpose' ]],drop_first=True)\n",
    "df = df.drop(['verification_status', 'application_type','initial_list_status','purpose'],axis=1)\n",
    "df = pd.concat([df,dummies],axis=1)"
   ]
  },
  {
   "cell_type": "code",
   "execution_count": 73,
   "metadata": {},
   "outputs": [
    {
     "data": {
      "text/plain": [
       "Index(['loan_amnt', 'term', 'int_rate', 'installment', 'home_ownership',\n",
       "       'annual_inc', 'issue_d', 'loan_status', 'dti', 'earliest_cr_line',\n",
       "       'open_acc', 'pub_rec', 'revol_bal', 'revol_util', 'total_acc',\n",
       "       'mort_acc', 'pub_rec_bankruptcies', 'address', 'loan_repaid', 'A2',\n",
       "       'A3', 'A4', 'A5', 'B1', 'B2', 'B3', 'B4', 'B5', 'C1', 'C2', 'C3', 'C4',\n",
       "       'C5', 'D1', 'D2', 'D3', 'D4', 'D5', 'E1', 'E2', 'E3', 'E4', 'E5', 'F1',\n",
       "       'F2', 'F3', 'F4', 'F5', 'G1', 'G2', 'G3', 'G4', 'G5',\n",
       "       'verification_status_Source Verified', 'verification_status_Verified',\n",
       "       'application_type_INDIVIDUAL', 'application_type_JOINT',\n",
       "       'initial_list_status_w', 'purpose_credit_card',\n",
       "       'purpose_debt_consolidation', 'purpose_educational',\n",
       "       'purpose_home_improvement', 'purpose_house', 'purpose_major_purchase',\n",
       "       'purpose_medical', 'purpose_moving', 'purpose_other',\n",
       "       'purpose_renewable_energy', 'purpose_small_business',\n",
       "       'purpose_vacation', 'purpose_wedding'],\n",
       "      dtype='object')"
      ]
     },
     "execution_count": 73,
     "metadata": {},
     "output_type": "execute_result"
    }
   ],
   "source": [
    "df.columns"
   ]
  },
  {
   "cell_type": "markdown",
   "metadata": {},
   "source": [
    "### home_ownership"
   ]
  },
  {
   "cell_type": "code",
   "execution_count": 74,
   "metadata": {},
   "outputs": [
    {
     "data": {
      "text/plain": [
       "MORTGAGE    198022\n",
       "RENT        159395\n",
       "OWN          37660\n",
       "OTHER          110\n",
       "NONE            29\n",
       "ANY              3\n",
       "Name: home_ownership, dtype: int64"
      ]
     },
     "execution_count": 74,
     "metadata": {},
     "output_type": "execute_result"
    }
   ],
   "source": [
    "df['home_ownership'].value_counts()"
   ]
  },
  {
   "cell_type": "markdown",
   "metadata": {},
   "source": [
    "**We will convert the above label into dummy variables, but we will replace 'NONE' and 'ANY' with 'OTHER', so that we end up with just 4 categories, MORTGAGE, RENT, OWN, OTHER. Then concatenate them with the original dataframe.**"
   ]
  },
  {
   "cell_type": "code",
   "execution_count": 75,
   "metadata": {},
   "outputs": [],
   "source": [
    "df['home_ownership']=df['home_ownership'].replace(['ANY','NONE'],'OTHER')"
   ]
  },
  {
   "cell_type": "code",
   "execution_count": 76,
   "metadata": {},
   "outputs": [
    {
     "data": {
      "text/plain": [
       "MORTGAGE    198022\n",
       "RENT        159395\n",
       "OWN          37660\n",
       "OTHER          142\n",
       "Name: home_ownership, dtype: int64"
      ]
     },
     "execution_count": 76,
     "metadata": {},
     "output_type": "execute_result"
    }
   ],
   "source": [
    "df['home_ownership'].value_counts()"
   ]
  },
  {
   "cell_type": "code",
   "execution_count": 77,
   "metadata": {},
   "outputs": [],
   "source": [
    "ho_dummies=pd.get_dummies(df['home_ownership'],drop_first=True)\n",
    "df=df.drop('home_ownership',axis=1)\n",
    "df=pd.concat([df,ho_dummies],axis=1)"
   ]
  },
  {
   "cell_type": "code",
   "execution_count": 78,
   "metadata": {},
   "outputs": [
    {
     "data": {
      "text/plain": [
       "Index(['loan_amnt', 'term', 'int_rate', 'installment', 'annual_inc', 'issue_d',\n",
       "       'loan_status', 'dti', 'earliest_cr_line', 'open_acc', 'pub_rec',\n",
       "       'revol_bal', 'revol_util', 'total_acc', 'mort_acc',\n",
       "       'pub_rec_bankruptcies', 'address', 'loan_repaid', 'A2', 'A3', 'A4',\n",
       "       'A5', 'B1', 'B2', 'B3', 'B4', 'B5', 'C1', 'C2', 'C3', 'C4', 'C5', 'D1',\n",
       "       'D2', 'D3', 'D4', 'D5', 'E1', 'E2', 'E3', 'E4', 'E5', 'F1', 'F2', 'F3',\n",
       "       'F4', 'F5', 'G1', 'G2', 'G3', 'G4', 'G5',\n",
       "       'verification_status_Source Verified', 'verification_status_Verified',\n",
       "       'application_type_INDIVIDUAL', 'application_type_JOINT',\n",
       "       'initial_list_status_w', 'purpose_credit_card',\n",
       "       'purpose_debt_consolidation', 'purpose_educational',\n",
       "       'purpose_home_improvement', 'purpose_house', 'purpose_major_purchase',\n",
       "       'purpose_medical', 'purpose_moving', 'purpose_other',\n",
       "       'purpose_renewable_energy', 'purpose_small_business',\n",
       "       'purpose_vacation', 'purpose_wedding', 'OTHER', 'OWN', 'RENT'],\n",
       "      dtype='object')"
      ]
     },
     "execution_count": 78,
     "metadata": {},
     "output_type": "execute_result"
    }
   ],
   "source": [
    "df.columns"
   ]
  },
  {
   "cell_type": "markdown",
   "metadata": {},
   "source": [
    "### address\n"
   ]
  },
  {
   "cell_type": "code",
   "execution_count": 80,
   "metadata": {},
   "outputs": [
    {
     "data": {
      "text/plain": [
       "0       0174 Michelle Gateway\\nMendozaberg, OK 22690\n",
       "1    1076 Carney Fort Apt. 347\\nLoganmouth, SD 05113\n",
       "2    87025 Mark Dale Apt. 269\\nNew Sabrina, WV 05113\n",
       "3              823 Reid Ford\\nDelacruzside, MA 00813\n",
       "4               679 Luna Roads\\nGreggshire, VA 11650\n",
       "Name: address, dtype: object"
      ]
     },
     "execution_count": 80,
     "metadata": {},
     "output_type": "execute_result"
    }
   ],
   "source": [
    "df['address'].head()"
   ]
  },
  {
   "cell_type": "markdown",
   "metadata": {},
   "source": [
    "**We will feature engineer a zip code column from the address in the data set, by creating a column called 'zip_code' that extracts the zip code from the address column.**"
   ]
  },
  {
   "cell_type": "code",
   "execution_count": 84,
   "metadata": {},
   "outputs": [],
   "source": [
    "df['zip_code'] = df['address'].apply(lambda address:address[-5:])"
   ]
  },
  {
   "cell_type": "code",
   "execution_count": 85,
   "metadata": {},
   "outputs": [
    {
     "data": {
      "text/plain": [
       "70466    56880\n",
       "22690    56413\n",
       "30723    56402\n",
       "48052    55811\n",
       "00813    45725\n",
       "29597    45393\n",
       "05113    45300\n",
       "11650    11210\n",
       "93700    11126\n",
       "86630    10959\n",
       "Name: zip_code, dtype: int64"
      ]
     },
     "execution_count": 85,
     "metadata": {},
     "output_type": "execute_result"
    }
   ],
   "source": [
    "df['zip_code'].value_counts()"
   ]
  },
  {
   "cell_type": "markdown",
   "metadata": {},
   "source": [
    "**Now we will make this zip_code column into dummy variables using pandas.**"
   ]
  },
  {
   "cell_type": "code",
   "execution_count": 86,
   "metadata": {},
   "outputs": [],
   "source": [
    "dummies = pd.get_dummies(df['zip_code'],drop_first=True)\n",
    "df = df.drop(['zip_code','address'],axis=1)\n",
    "df = pd.concat([df,dummies],axis=1)"
   ]
  },
  {
   "cell_type": "code",
   "execution_count": 87,
   "metadata": {},
   "outputs": [
    {
     "data": {
      "text/plain": [
       "Index(['loan_amnt', 'term', 'int_rate', 'installment', 'annual_inc', 'issue_d',\n",
       "       'loan_status', 'dti', 'earliest_cr_line', 'open_acc', 'pub_rec',\n",
       "       'revol_bal', 'revol_util', 'total_acc', 'mort_acc',\n",
       "       'pub_rec_bankruptcies', 'loan_repaid', 'A2', 'A3', 'A4', 'A5', 'B1',\n",
       "       'B2', 'B3', 'B4', 'B5', 'C1', 'C2', 'C3', 'C4', 'C5', 'D1', 'D2', 'D3',\n",
       "       'D4', 'D5', 'E1', 'E2', 'E3', 'E4', 'E5', 'F1', 'F2', 'F3', 'F4', 'F5',\n",
       "       'G1', 'G2', 'G3', 'G4', 'G5', 'verification_status_Source Verified',\n",
       "       'verification_status_Verified', 'application_type_INDIVIDUAL',\n",
       "       'application_type_JOINT', 'initial_list_status_w',\n",
       "       'purpose_credit_card', 'purpose_debt_consolidation',\n",
       "       'purpose_educational', 'purpose_home_improvement', 'purpose_house',\n",
       "       'purpose_major_purchase', 'purpose_medical', 'purpose_moving',\n",
       "       'purpose_other', 'purpose_renewable_energy', 'purpose_small_business',\n",
       "       'purpose_vacation', 'purpose_wedding', 'OTHER', 'OWN', 'RENT', '05113',\n",
       "       '11650', '22690', '29597', '30723', '48052', '70466', '86630', '93700'],\n",
       "      dtype='object')"
      ]
     },
     "execution_count": 87,
     "metadata": {},
     "output_type": "execute_result"
    }
   ],
   "source": [
    "df.columns"
   ]
  },
  {
   "cell_type": "markdown",
   "metadata": {},
   "source": [
    "### issue_d "
   ]
  },
  {
   "cell_type": "code",
   "execution_count": 89,
   "metadata": {},
   "outputs": [
    {
     "name": "stdout",
     "output_type": "stream",
     "text": [
      "issue_d = The month which the loan was funded\n"
     ]
    }
   ],
   "source": [
    "feat_info('issue_d')"
   ]
  },
  {
   "cell_type": "markdown",
   "metadata": {},
   "source": [
    "**This would be data leakage, we wouldn't know beforehand whether or not a loan would be issued when using our model, so in theory we wouldn't have an issue_date. So we can drop this.**"
   ]
  },
  {
   "cell_type": "code",
   "execution_count": 90,
   "metadata": {},
   "outputs": [],
   "source": [
    "df.drop('issue_d',axis=1,inplace=True)"
   ]
  },
  {
   "cell_type": "markdown",
   "metadata": {},
   "source": [
    "### earliest_cr_line"
   ]
  },
  {
   "cell_type": "code",
   "execution_count": 91,
   "metadata": {},
   "outputs": [
    {
     "data": {
      "text/plain": [
       "0    Jun-1990\n",
       "1    Jul-2004\n",
       "2    Aug-2007\n",
       "3    Sep-2006\n",
       "4    Mar-1999\n",
       "Name: earliest_cr_line, dtype: object"
      ]
     },
     "execution_count": 91,
     "metadata": {},
     "output_type": "execute_result"
    }
   ],
   "source": [
    "df['earliest_cr_line'].head()"
   ]
  },
  {
   "cell_type": "code",
   "execution_count": 93,
   "metadata": {},
   "outputs": [
    {
     "name": "stdout",
     "output_type": "stream",
     "text": [
      "earliest_cr_line = The month the borrower's earliest reported credit line was opened\n"
     ]
    }
   ],
   "source": [
    "feat_info('earliest_cr_line')"
   ]
  },
  {
   "cell_type": "markdown",
   "metadata": {},
   "source": [
    "**This appears to be a historical time stamp feature.we will extract the year from this feature.**"
   ]
  },
  {
   "cell_type": "code",
   "execution_count": 94,
   "metadata": {},
   "outputs": [],
   "source": [
    "df['earliest_cr_year']=df['earliest_cr_line'].apply(lambda x: int(x[-4:]))"
   ]
  },
  {
   "cell_type": "code",
   "execution_count": 95,
   "metadata": {},
   "outputs": [
    {
     "data": {
      "text/plain": [
       "0         1990\n",
       "1         2004\n",
       "2         2007\n",
       "3         2006\n",
       "4         1999\n",
       "          ... \n",
       "396025    2004\n",
       "396026    2006\n",
       "396027    1997\n",
       "396028    1990\n",
       "396029    1998\n",
       "Name: earliest_cr_year, Length: 395219, dtype: int64"
      ]
     },
     "execution_count": 95,
     "metadata": {},
     "output_type": "execute_result"
    }
   ],
   "source": [
    "df = df.drop('earliest_cr_line',axis=1)\n",
    "df['earliest_cr_year']"
   ]
  },
  {
   "cell_type": "code",
   "execution_count": 96,
   "metadata": {},
   "outputs": [
    {
     "data": {
      "text/plain": [
       "['loan_status']"
      ]
     },
     "execution_count": 96,
     "metadata": {},
     "output_type": "execute_result"
    }
   ],
   "source": [
    "list(df.select_dtypes(['object']).columns)"
   ]
  },
  {
   "cell_type": "markdown",
   "metadata": {},
   "source": [
    "### **We have achieved our Data preprocessing steps. 'loan_status' is just a duplicate of the 'loan_repaid' feature so we can drop that too.**"
   ]
  },
  {
   "cell_type": "markdown",
   "metadata": {},
   "source": [
    "# Part 4 - Train Test Split"
   ]
  },
  {
   "cell_type": "code",
   "execution_count": 97,
   "metadata": {},
   "outputs": [],
   "source": [
    "from sklearn.model_selection import train_test_split"
   ]
  },
  {
   "cell_type": "code",
   "execution_count": 98,
   "metadata": {},
   "outputs": [],
   "source": [
    "df.drop('loan_status',axis=1,inplace=True)"
   ]
  },
  {
   "cell_type": "code",
   "execution_count": 99,
   "metadata": {},
   "outputs": [],
   "source": [
    "X=df.drop('loan_repaid',axis=1)\n",
    "y=df['loan_repaid']"
   ]
  },
  {
   "cell_type": "code",
   "execution_count": 100,
   "metadata": {},
   "outputs": [
    {
     "data": {
      "text/plain": [
       "395219"
      ]
     },
     "execution_count": 100,
     "metadata": {},
     "output_type": "execute_result"
    }
   ],
   "source": [
    "len(df)"
   ]
  },
  {
   "cell_type": "code",
   "execution_count": 101,
   "metadata": {},
   "outputs": [],
   "source": [
    "X_train, X_test, y_train, y_test = train_test_split(X, y, test_size=0.2, random_state=101)"
   ]
  },
  {
   "cell_type": "markdown",
   "metadata": {},
   "source": [
    "## Normalizing the Data\n",
    "\n",
    "**Normalize the feature data X_train and X_test.**"
   ]
  },
  {
   "cell_type": "code",
   "execution_count": 102,
   "metadata": {},
   "outputs": [],
   "source": [
    "from sklearn.preprocessing import MinMaxScaler"
   ]
  },
  {
   "cell_type": "code",
   "execution_count": 103,
   "metadata": {},
   "outputs": [],
   "source": [
    "scaler=MinMaxScaler()"
   ]
  },
  {
   "cell_type": "code",
   "execution_count": 104,
   "metadata": {},
   "outputs": [],
   "source": [
    "X_train=scaler.fit_transform(X_train)\n",
    "X_test=scaler.transform(X_test)"
   ]
  },
  {
   "cell_type": "code",
   "execution_count": 105,
   "metadata": {},
   "outputs": [
    {
     "data": {
      "text/plain": [
       "79"
      ]
     },
     "execution_count": 105,
     "metadata": {},
     "output_type": "execute_result"
    }
   ],
   "source": [
    "len(df.columns)"
   ]
  },
  {
   "cell_type": "markdown",
   "metadata": {},
   "source": [
    "# Part 5 - Creating the Model"
   ]
  },
  {
   "cell_type": "code",
   "execution_count": 106,
   "metadata": {},
   "outputs": [],
   "source": [
    "import tensorflow as tf\n",
    "from tensorflow.keras.models import Sequential\n",
    "from tensorflow.keras.layers import Dense,Dropout"
   ]
  },
  {
   "cell_type": "markdown",
   "metadata": {},
   "source": [
    "## 1st Model [ WITH NO DROPOUT , NO EARLY STOPPING ] "
   ]
  },
  {
   "cell_type": "code",
   "execution_count": 107,
   "metadata": {},
   "outputs": [],
   "source": [
    "model = Sequential()\n",
    "\n",
    "model.add(Dense(79,activation='relu'))\n",
    "\n",
    "model.add(Dense(38,activation='relu'))\n",
    "\n",
    "model.add(Dense(19,activation='relu'))\n",
    "\n",
    "model.add(Dense(1,activation='sigmoid'))\n",
    "\n",
    "\n",
    "model.compile(loss='binary_crossentropy', optimizer='adam')"
   ]
  },
  {
   "cell_type": "markdown",
   "metadata": {},
   "source": [
    "**Fit the above model.**"
   ]
  },
  {
   "cell_type": "code",
   "execution_count": 108,
   "metadata": {},
   "outputs": [
    {
     "name": "stdout",
     "output_type": "stream",
     "text": [
      "Epoch 1/25\n",
      "1236/1236 [==============================] - 8s 4ms/step - loss: 0.2838 - val_loss: 0.2665\n",
      "Epoch 2/25\n",
      "1236/1236 [==============================] - 5s 4ms/step - loss: 0.2625 - val_loss: 0.2644\n",
      "Epoch 3/25\n",
      "1236/1236 [==============================] - 5s 4ms/step - loss: 0.2605 - val_loss: 0.2652\n",
      "Epoch 4/25\n",
      "1236/1236 [==============================] - 6s 5ms/step - loss: 0.2594 - val_loss: 0.2614\n",
      "Epoch 5/25\n",
      "1236/1236 [==============================] - 6s 5ms/step - loss: 0.2585 - val_loss: 0.2618\n",
      "Epoch 6/25\n",
      "1236/1236 [==============================] - 5s 4ms/step - loss: 0.2580 - val_loss: 0.2616\n",
      "Epoch 7/25\n",
      "1236/1236 [==============================] - 5s 4ms/step - loss: 0.2575 - val_loss: 0.2621\n",
      "Epoch 8/25\n",
      "1236/1236 [==============================] - 4s 4ms/step - loss: 0.2571 - val_loss: 0.2641\n",
      "Epoch 9/25\n",
      "1236/1236 [==============================] - 4s 3ms/step - loss: 0.2567 - val_loss: 0.2624\n",
      "Epoch 10/25\n",
      "1236/1236 [==============================] - 4s 3ms/step - loss: 0.2563 - val_loss: 0.2617\n",
      "Epoch 11/25\n",
      "1236/1236 [==============================] - 5s 4ms/step - loss: 0.2559 - val_loss: 0.2610\n",
      "Epoch 12/25\n",
      "1236/1236 [==============================] - 5s 4ms/step - loss: 0.2556 - val_loss: 0.2621\n",
      "Epoch 13/25\n",
      "1236/1236 [==============================] - 5s 4ms/step - loss: 0.2551 - val_loss: 0.2617\n",
      "Epoch 14/25\n",
      "1236/1236 [==============================] - 5s 4ms/step - loss: 0.2548 - val_loss: 0.2614\n",
      "Epoch 15/25\n",
      "1236/1236 [==============================] - 4s 4ms/step - loss: 0.2545 - val_loss: 0.2611\n",
      "Epoch 16/25\n",
      "1236/1236 [==============================] - 5s 4ms/step - loss: 0.2541 - val_loss: 0.2618\n",
      "Epoch 17/25\n",
      "1236/1236 [==============================] - 5s 4ms/step - loss: 0.2537 - val_loss: 0.2616\n",
      "Epoch 18/25\n",
      "1236/1236 [==============================] - 5s 4ms/step - loss: 0.2532 - val_loss: 0.2615\n",
      "Epoch 19/25\n",
      "1236/1236 [==============================] - 4s 4ms/step - loss: 0.2529 - val_loss: 0.2613\n",
      "Epoch 20/25\n",
      "1236/1236 [==============================] - 4s 3ms/step - loss: 0.2525 - val_loss: 0.2624\n",
      "Epoch 21/25\n",
      "1236/1236 [==============================] - 4s 3ms/step - loss: 0.2522 - val_loss: 0.2650\n",
      "Epoch 22/25\n",
      "1236/1236 [==============================] - 4s 3ms/step - loss: 0.2520 - val_loss: 0.2626\n",
      "Epoch 23/25\n",
      "1236/1236 [==============================] - 5s 4ms/step - loss: 0.2516 - val_loss: 0.2625\n",
      "Epoch 24/25\n",
      "1236/1236 [==============================] - 5s 4ms/step - loss: 0.2513 - val_loss: 0.2649\n",
      "Epoch 25/25\n",
      "1236/1236 [==============================] - 5s 4ms/step - loss: 0.2510 - val_loss: 0.2636\n"
     ]
    },
    {
     "data": {
      "text/plain": [
       "<keras.callbacks.History at 0x2ae0f72a530>"
      ]
     },
     "execution_count": 108,
     "metadata": {},
     "output_type": "execute_result"
    }
   ],
   "source": [
    "model.fit(x=X_train, \n",
    "          y=y_train, \n",
    "          epochs=25,\n",
    "          batch_size=256,\n",
    "          validation_data=(X_test, y_test), \n",
    "          )"
   ]
  },
  {
   "cell_type": "markdown",
   "metadata": {},
   "source": [
    "**Save the model.**"
   ]
  },
  {
   "cell_type": "code",
   "execution_count": 109,
   "metadata": {},
   "outputs": [],
   "source": [
    "from tensorflow.keras.models import load_model"
   ]
  },
  {
   "cell_type": "code",
   "execution_count": 110,
   "metadata": {},
   "outputs": [],
   "source": [
    "model.save('full_data_project_model-version-1.h5')"
   ]
  },
  {
   "cell_type": "markdown",
   "metadata": {},
   "source": [
    "### Evaluating Model Performance.\n",
    "\n",
    "**validation loss versus the training loss.**"
   ]
  },
  {
   "cell_type": "code",
   "execution_count": 111,
   "metadata": {},
   "outputs": [],
   "source": [
    "losses1=pd.DataFrame(model.history.history)"
   ]
  },
  {
   "cell_type": "code",
   "execution_count": 112,
   "metadata": {},
   "outputs": [
    {
     "data": {
      "text/plain": [
       "<Axes: >"
      ]
     },
     "execution_count": 112,
     "metadata": {},
     "output_type": "execute_result"
    },
    {
     "data": {
      "image/png": "[encoded data removed]",
      "text/plain": [
       "<Figure size 640x480 with 1 Axes>"
      ]
     },
     "metadata": {},
     "output_type": "display_data"
    }
   ],
   "source": [
    "losses1.plot()"
   ]
  },
  {
   "cell_type": "markdown",
   "metadata": {},
   "source": [
    "**We will create predictions from the X_test set and display a classification report and confusion matrix for the X_test set.**"
   ]
  },
  {
   "cell_type": "code",
   "execution_count": 113,
   "metadata": {},
   "outputs": [
    {
     "name": "stdout",
     "output_type": "stream",
     "text": [
      "2471/2471 [==============================] - 3s 1ms/step\n"
     ]
    }
   ],
   "source": [
    "predictions1=model.predict(X_test).round()"
   ]
  },
  {
   "cell_type": "code",
   "execution_count": 114,
   "metadata": {},
   "outputs": [],
   "source": [
    "from sklearn.metrics import confusion_matrix,classification_report"
   ]
  },
  {
   "cell_type": "code",
   "execution_count": 115,
   "metadata": {},
   "outputs": [
    {
     "name": "stdout",
     "output_type": "stream",
     "text": [
      "              precision    recall  f1-score   support\n",
      "\n",
      "           0       0.92      0.47      0.62     15658\n",
      "           1       0.88      0.99      0.93     63386\n",
      "\n",
      "    accuracy                           0.89     79044\n",
      "   macro avg       0.90      0.73      0.78     79044\n",
      "weighted avg       0.89      0.89      0.87     79044\n",
      "\n",
      " \n",
      "[[ 7345  8313]\n",
      " [  625 62761]]\n"
     ]
    }
   ],
   "source": [
    "print(classification_report(y_test,predictions1))\n",
    "print(\" \")\n",
    "print(confusion_matrix(y_test,predictions1))"
   ]
  },
  {
   "cell_type": "markdown",
   "metadata": {},
   "source": [
    "## 2nd Model [ WITH NO EARLY STOPPING ]"
   ]
  },
  {
   "cell_type": "code",
   "execution_count": 116,
   "metadata": {},
   "outputs": [],
   "source": [
    "model2 = Sequential()\n",
    "\n",
    "model2.add(Dense(79,activation='relu'))\n",
    "model2.add(Dropout(0.4))\n",
    "\n",
    "model2.add(Dense(38,activation='relu'))\n",
    "model2.add(Dropout(0.4))\n",
    "\n",
    "model2.add(Dense(19,activation='relu'))\n",
    "model2.add(Dropout(0.4))\n",
    "\n",
    "model2.add(Dense(1,activation='sigmoid'))\n",
    "\n",
    "\n",
    "model2.compile(loss='binary_crossentropy', optimizer='adam')"
   ]
  },
  {
   "cell_type": "markdown",
   "metadata": {},
   "source": [
    "**Fit the above model.**"
   ]
  },
  {
   "cell_type": "code",
   "execution_count": 117,
   "metadata": {},
   "outputs": [
    {
     "name": "stdout",
     "output_type": "stream",
     "text": [
      "Epoch 1/25\n",
      "1236/1236 [==============================] - 9s 6ms/step - loss: 0.3160 - val_loss: 0.2657\n",
      "Epoch 2/25\n",
      "1236/1236 [==============================] - 7s 6ms/step - loss: 0.2699 - val_loss: 0.2637\n",
      "Epoch 3/25\n",
      "1236/1236 [==============================] - 7s 5ms/step - loss: 0.2660 - val_loss: 0.2634\n",
      "Epoch 4/25\n",
      "1236/1236 [==============================] - 7s 5ms/step - loss: 0.2642 - val_loss: 0.2626\n",
      "Epoch 5/25\n",
      "1236/1236 [==============================] - 7s 6ms/step - loss: 0.2635 - val_loss: 0.2641\n",
      "Epoch 6/25\n",
      "1236/1236 [==============================] - 7s 6ms/step - loss: 0.2627 - val_loss: 0.2632\n",
      "Epoch 7/25\n",
      "1236/1236 [==============================] - 7s 6ms/step - loss: 0.2626 - val_loss: 0.2618\n",
      "Epoch 8/25\n",
      "1236/1236 [==============================] - 7s 6ms/step - loss: 0.2623 - val_loss: 0.2623\n",
      "Epoch 9/25\n",
      "1236/1236 [==============================] - 7s 6ms/step - loss: 0.2622 - val_loss: 0.2622\n",
      "Epoch 10/25\n",
      "1236/1236 [==============================] - 7s 6ms/step - loss: 0.2619 - val_loss: 0.2621\n",
      "Epoch 11/25\n",
      "1236/1236 [==============================] - 7s 5ms/step - loss: 0.2613 - val_loss: 0.2620\n",
      "Epoch 12/25\n",
      "1236/1236 [==============================] - 7s 5ms/step - loss: 0.2615 - val_loss: 0.2620\n",
      "Epoch 13/25\n",
      "1236/1236 [==============================] - 7s 6ms/step - loss: 0.2613 - val_loss: 0.2622\n",
      "Epoch 14/25\n",
      "1236/1236 [==============================] - 7s 6ms/step - loss: 0.2607 - val_loss: 0.2618\n",
      "Epoch 15/25\n",
      "1236/1236 [==============================] - 7s 6ms/step - loss: 0.2611 - val_loss: 0.2623\n",
      "Epoch 16/25\n",
      "1236/1236 [==============================] - 7s 6ms/step - loss: 0.2608 - val_loss: 0.2616\n",
      "Epoch 17/25\n",
      "1236/1236 [==============================] - 7s 6ms/step - loss: 0.2610 - val_loss: 0.2619\n",
      "Epoch 18/25\n",
      "1236/1236 [==============================] - 7s 6ms/step - loss: 0.2605 - val_loss: 0.2615\n",
      "Epoch 19/25\n",
      "1236/1236 [==============================] - 7s 6ms/step - loss: 0.2606 - val_loss: 0.2616\n",
      "Epoch 20/25\n",
      "1236/1236 [==============================] - 7s 6ms/step - loss: 0.2601 - val_loss: 0.2618\n",
      "Epoch 21/25\n",
      "1236/1236 [==============================] - 7s 5ms/step - loss: 0.2606 - val_loss: 0.2617\n",
      "Epoch 22/25\n",
      "1236/1236 [==============================] - 7s 6ms/step - loss: 0.2606 - val_loss: 0.2618\n",
      "Epoch 23/25\n",
      "1236/1236 [==============================] - 7s 6ms/step - loss: 0.2603 - val_loss: 0.2622\n",
      "Epoch 24/25\n",
      "1236/1236 [==============================] - 7s 5ms/step - loss: 0.2600 - val_loss: 0.2615\n",
      "Epoch 25/25\n",
      "1236/1236 [==============================] - 7s 6ms/step - loss: 0.2599 - val_loss: 0.2614\n"
     ]
    },
    {
     "data": {
      "text/plain": [
       "<keras.callbacks.History at 0x2ae0f84d630>"
      ]
     },
     "execution_count": 117,
     "metadata": {},
     "output_type": "execute_result"
    }
   ],
   "source": [
    "model2.fit(x=X_train, \n",
    "          y=y_train, \n",
    "          epochs=25,\n",
    "          batch_size=256,\n",
    "          validation_data=(X_test, y_test), \n",
    "          )"
   ]
  },
  {
   "cell_type": "markdown",
   "metadata": {},
   "source": [
    "**Save the model.**"
   ]
  },
  {
   "cell_type": "code",
   "execution_count": 118,
   "metadata": {},
   "outputs": [],
   "source": [
    "model2.save('full_data_project_model-version-2.h5')"
   ]
  },
  {
   "cell_type": "markdown",
   "metadata": {},
   "source": [
    "### Evaluating Model Performance.\n",
    "\n",
    "**validation loss versus the training loss.**"
   ]
  },
  {
   "cell_type": "code",
   "execution_count": 119,
   "metadata": {},
   "outputs": [
    {
     "data": {
      "text/plain": [
       "<Axes: >"
      ]
     },
     "execution_count": 119,
     "metadata": {},
     "output_type": "execute_result"
    },
    {
     "data": {
      "image/png": "[encoded data removed]",
      "text/plain": [
       "<Figure size 640x480 with 1 Axes>"
      ]
     },
     "metadata": {},
     "output_type": "display_data"
    }
   ],
   "source": [
    "losses2=pd.DataFrame(model2.history.history)\n",
    "\n",
    "losses2.plot()"
   ]
  },
  {
   "cell_type": "markdown",
   "metadata": {},
   "source": [
    "**We will create predictions from the X_test set and display a classification report and confusion matrix for the X_test set.**"
   ]
  },
  {
   "cell_type": "code",
   "execution_count": 121,
   "metadata": {},
   "outputs": [
    {
     "name": "stdout",
     "output_type": "stream",
     "text": [
      "2471/2471 [==============================] - 4s 2ms/step\n",
      " \n",
      "              precision    recall  f1-score   support\n",
      "\n",
      "           0       0.99      0.43      0.60     15658\n",
      "           1       0.88      1.00      0.93     63386\n",
      "\n",
      "    accuracy                           0.89     79044\n",
      "   macro avg       0.93      0.72      0.77     79044\n",
      "weighted avg       0.90      0.89      0.87     79044\n",
      "\n",
      " \n",
      "[[ 6806  8852]\n",
      " [   67 63319]]\n"
     ]
    }
   ],
   "source": [
    "predictions2 = model2.predict(X_test).round()\n",
    "print(\" \")\n",
    "print(classification_report(y_test,predictions2))\n",
    "print(\" \")\n",
    "print(confusion_matrix(y_test,predictions2))\n",
    "\n"
   ]
  },
  {
   "cell_type": "markdown",
   "metadata": {},
   "source": [
    "## 3rd Model [ WITH DROPOUT,WITH CALLBACK]"
   ]
  },
  {
   "cell_type": "code",
   "execution_count": 122,
   "metadata": {},
   "outputs": [],
   "source": [
    "from tensorflow.keras.callbacks import EarlyStopping"
   ]
  },
  {
   "cell_type": "code",
   "execution_count": 126,
   "metadata": {},
   "outputs": [],
   "source": [
    "early_stop = EarlyStopping(monitor='val_loss', mode='min', verbose=1, patience=5)"
   ]
  },
  {
   "cell_type": "code",
   "execution_count": 127,
   "metadata": {},
   "outputs": [],
   "source": [
    "model3 = Sequential()\n",
    "\n",
    "model3.add(Dense(79,activation='relu'))\n",
    "model3.add(Dropout(0.4))\n",
    "\n",
    "model3.add(Dense(38,activation='relu'))\n",
    "model3.add(Dropout(0.4))\n",
    "\n",
    "model3.add(Dense(19,activation='relu'))\n",
    "model3.add(Dropout(0.4))\n",
    "\n",
    "model3.add(Dense(1,activation='sigmoid'))\n",
    "\n",
    "\n",
    "model3.compile(loss='binary_crossentropy', optimizer='adam')"
   ]
  },
  {
   "cell_type": "code",
   "execution_count": 128,
   "metadata": {},
   "outputs": [
    {
     "name": "stdout",
     "output_type": "stream",
     "text": [
      "Epoch 1/50\n",
      "1236/1236 [==============================] - 8s 5ms/step - loss: 0.3169 - val_loss: 0.2660\n",
      "Epoch 2/50\n",
      "1236/1236 [==============================] - 6s 5ms/step - loss: 0.2704 - val_loss: 0.2639\n",
      "Epoch 3/50\n",
      "1236/1236 [==============================] - 6s 5ms/step - loss: 0.2664 - val_loss: 0.2640\n",
      "Epoch 4/50\n",
      "1236/1236 [==============================] - 7s 5ms/step - loss: 0.2643 - val_loss: 0.2629\n",
      "Epoch 5/50\n",
      "1236/1236 [==============================] - 6s 5ms/step - loss: 0.2634 - val_loss: 0.2625\n",
      "Epoch 6/50\n",
      "1236/1236 [==============================] - 6s 5ms/step - loss: 0.2629 - val_loss: 0.2632\n",
      "Epoch 7/50\n",
      "1236/1236 [==============================] - 6s 5ms/step - loss: 0.2626 - val_loss: 0.2624\n",
      "Epoch 8/50\n",
      "1236/1236 [==============================] - 6s 5ms/step - loss: 0.2625 - val_loss: 0.2625\n",
      "Epoch 9/50\n",
      "1236/1236 [==============================] - 6s 5ms/step - loss: 0.2620 - val_loss: 0.2626\n",
      "Epoch 10/50\n",
      "1236/1236 [==============================] - 6s 5ms/step - loss: 0.2622 - val_loss: 0.2622\n",
      "Epoch 11/50\n",
      "1236/1236 [==============================] - 6s 5ms/step - loss: 0.2618 - val_loss: 0.2618\n",
      "Epoch 12/50\n",
      "1236/1236 [==============================] - 6s 5ms/step - loss: 0.2618 - val_loss: 0.2620\n",
      "Epoch 13/50\n",
      "1236/1236 [==============================] - 6s 5ms/step - loss: 0.2615 - val_loss: 0.2623\n",
      "Epoch 14/50\n",
      "1236/1236 [==============================] - 6s 5ms/step - loss: 0.2611 - val_loss: 0.2619\n",
      "Epoch 15/50\n",
      "1236/1236 [==============================] - 7s 5ms/step - loss: 0.2612 - val_loss: 0.2625\n",
      "Epoch 16/50\n",
      "1236/1236 [==============================] - 6s 5ms/step - loss: 0.2610 - val_loss: 0.2621\n",
      "Epoch 16: early stopping\n"
     ]
    },
    {
     "data": {
      "text/plain": [
       "<keras.callbacks.History at 0x2ae103d1060>"
      ]
     },
     "execution_count": 128,
     "metadata": {},
     "output_type": "execute_result"
    }
   ],
   "source": [
    "model3.fit(x=X_train, \n",
    "          y=y_train, \n",
    "          epochs=50,\n",
    "          batch_size=256,\n",
    "          validation_data=(X_test, y_test),callbacks=[early_stop] \n",
    "          )"
   ]
  },
  {
   "cell_type": "markdown",
   "metadata": {},
   "source": [
    "**Save the model.**"
   ]
  },
  {
   "cell_type": "code",
   "execution_count": 129,
   "metadata": {},
   "outputs": [],
   "source": [
    "model3.save('full_data_project_model-version-3.h5')"
   ]
  },
  {
   "cell_type": "markdown",
   "metadata": {},
   "source": [
    "### Evaluating Model Performance.\n",
    "\n",
    "**validation loss versus the training loss.**"
   ]
  },
  {
   "cell_type": "code",
   "execution_count": 130,
   "metadata": {},
   "outputs": [
    {
     "data": {
      "text/plain": [
       "<Axes: >"
      ]
     },
     "execution_count": 130,
     "metadata": {},
     "output_type": "execute_result"
    },
    {
     "data": {
      "image/png": "[encoded data removed]",
      "text/plain": [
       "<Figure size 640x480 with 1 Axes>"
      ]
     },
     "metadata": {},
     "output_type": "display_data"
    }
   ],
   "source": [
    "losses3=pd.DataFrame(model3.history.history)\n",
    "\n",
    "losses3.plot()\n"
   ]
  },
  {
   "cell_type": "markdown",
   "metadata": {},
   "source": [
    "**We will create predictions from the X_test set and display a classification report and confusion matrix for the X_test set.**"
   ]
  },
  {
   "cell_type": "code",
   "execution_count": 131,
   "metadata": {},
   "outputs": [
    {
     "name": "stdout",
     "output_type": "stream",
     "text": [
      "2471/2471 [==============================] - 3s 1ms/step\n",
      " \n",
      "              precision    recall  f1-score   support\n",
      "\n",
      "           0       1.00      0.43      0.60     15658\n",
      "           1       0.88      1.00      0.93     63386\n",
      "\n",
      "    accuracy                           0.89     79044\n",
      "   macro avg       0.94      0.71      0.77     79044\n",
      "weighted avg       0.90      0.89      0.87     79044\n",
      "\n",
      " \n",
      "[[ 6720  8938]\n",
      " [    0 63386]]\n"
     ]
    }
   ],
   "source": [
    "predictions3 = model3.predict(X_test).round()\n",
    "print(\" \")\n",
    "print(classification_report(y_test,predictions3))\n",
    "print(\" \")\n",
    "print(confusion_matrix(y_test,predictions3))"
   ]
  },
  {
   "cell_type": "markdown",
   "metadata": {},
   "source": [
    "### In general, Type II errors are more serious than Type I errors; \n",
    "### seeing an effect when there isn't one (e.g., believing an ineffectual drug works) is worse than missing an effect (e.g., an effective drug fails a clinical trial).\n",
    "### Thus we go ahead with 'model3'"
   ]
  },
  {
   "cell_type": "markdown",
   "metadata": {},
   "source": [
    "**Prediction for a completely new data**"
   ]
  },
  {
   "cell_type": "code",
   "execution_count": 132,
   "metadata": {},
   "outputs": [
    {
     "data": {
      "text/plain": [
       "loan_amnt           25000.00\n",
       "term                   60.00\n",
       "int_rate               18.24\n",
       "installment           638.11\n",
       "annual_inc          61665.00\n",
       "                      ...   \n",
       "48052                   0.00\n",
       "70466                   0.00\n",
       "86630                   0.00\n",
       "93700                   0.00\n",
       "earliest_cr_year     1996.00\n",
       "Name: 305323, Length: 78, dtype: float64"
      ]
     },
     "execution_count": 132,
     "metadata": {},
     "output_type": "execute_result"
    }
   ],
   "source": [
    "import random\n",
    "random.seed(101)\n",
    "random_ind = random.randint(0,len(df))\n",
    "\n",
    "new_customer = df.drop('loan_repaid',axis=1).iloc[random_ind]\n",
    "new_customer"
   ]
  },
  {
   "cell_type": "code",
   "execution_count": 133,
   "metadata": {},
   "outputs": [
    {
     "name": "stdout",
     "output_type": "stream",
     "text": [
      "1/1 [==============================] - 0s 41ms/step\n"
     ]
    },
    {
     "data": {
      "text/plain": [
       "array([[1.]], dtype=float32)"
      ]
     },
     "execution_count": 133,
     "metadata": {},
     "output_type": "execute_result"
    }
   ],
   "source": [
    "model3.predict(new_customer.values.reshape(1,78))"
   ]
  },
  {
   "cell_type": "markdown",
   "metadata": {},
   "source": [
    "**did this person actually end up paying back their loan?**"
   ]
  },
  {
   "cell_type": "code",
   "execution_count": 134,
   "metadata": {},
   "outputs": [
    {
     "data": {
      "text/plain": [
       "1.0"
      ]
     },
     "execution_count": 134,
     "metadata": {},
     "output_type": "execute_result"
    }
   ],
   "source": [
    "df.iloc[random_ind]['loan_repaid']"
   ]
  },
  {
   "cell_type": "markdown",
   "metadata": {},
   "source": [
    "# Our Model Works !!!!!"
   ]
  }
 ],
 "metadata": {
  "kernelspec": {
   "display_name": "Python 3 (ipykernel)",
   "language": "python",
   "name": "python3"
  },
  "language_info": {
   "codemirror_mode": {
    "name": "ipython",
    "version": 3
   },
   "file_extension": ".py",
   "mimetype": "text/x-python",
   "name": "python",
   "nbconvert_exporter": "python",
   "pygments_lexer": "ipython3",
   "version": "3.10.9"
  }
 },
 "nbformat": 4,
 "nbformat_minor": 2
}
